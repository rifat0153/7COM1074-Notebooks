{
 "cells": [
  {
   "cell_type": "markdown",
   "metadata": {},
   "source": [
    "# Practical 1 - Introduction\n",
    "\n",
    "This notebook introduces you to the essential tools we will be using in this module. Most of you will be familiar with those from last semester's \"Foundations of Data Science\" module. Consider this as a refresher. \n",
    "\n",
    "You work through this notebook at your own pace. Make sure you understand and solve all tasks. Bring any questions, comments, suggestions to next week's practical session."
   ]
  },
  {
   "cell_type": "markdown",
   "metadata": {},
   "source": [
    "## 1 - Jupyter notebooks\n",
    "\n",
    "Jupyter notebooks can contain code, text, and images. You can edit the text and change the code. The first part of this notebook recaps the basics of notebooks and the possibilities they offer to structure text. This is useful e.g. for generating reports. \n",
    "\n",
    "### 1.1 Run and edit some code\n",
    "Below is a code cell. You recognise it by the `In [ ]:` next to it. \n",
    "\n",
    "**Task:** Run the code by selecting the cell with the mouse or with the arrow keys, and press Shift+Enter.\n",
    "\n",
    "**Task:** Make it print \"Data Science rocks!\""
   ]
  },
  {
   "cell_type": "code",
   "execution_count": 1,
   "metadata": {},
   "outputs": [
    {
     "name": "stdout",
     "output_type": "stream",
     "text": [
      "Hello world\n"
     ]
    }
   ],
   "source": [
    "print(\"Hello world\")"
   ]
  },
  {
   "cell_type": "markdown",
   "metadata": {},
   "source": [
    "In case your code contains an error, jupyter will show you the Error or Exception it created that helps you locate the error. \n",
    "\n",
    "**Task:** Fix the code below so that it doesn't create an error. Use the information provied by the Error traceback. (Yes, this will change the semantics of the last line, no worries we are not interested in the result.)"
   ]
  },
  {
   "cell_type": "code",
   "execution_count": 2,
   "metadata": {},
   "outputs": [],
   "source": [
    "a = 1 \n",
    "b = 2\n",
    "c = 2\n",
    "d = (a+b)/(b+c)"
   ]
  },
  {
   "cell_type": "markdown",
   "metadata": {},
   "source": [
    "### 1.3 edit some text\n",
    "Below is a text(markdown) cell. There are four types of cells. You can change the type of a cell by selecting the type in the top line. It supports formatting using Markdown. Select it and observe how the raw text appears, and what is used for formatting. \n",
    "\n",
    "**Task:** Change the cell below from a code to a markdown cell."
   ]
  },
  {
   "cell_type": "markdown",
   "metadata": {},
   "source": [
    "This is code, but it wants to be text!"
   ]
  },
  {
   "cell_type": "markdown",
   "metadata": {},
   "source": [
    "I'm a text cell. I support headings of different levels:\n",
    "# heading 1\n",
    "## heading 2\n",
    "### heading 3\n",
    "\n",
    "**Task**: is there a level 4 heading? Find out yourself!"
   ]
  },
  {
   "cell_type": "markdown",
   "metadata": {},
   "source": [
    "Please write your attempt for a level 4 heading below in this cell"
   ]
  },
  {
   "cell_type": "markdown",
   "metadata": {},
   "source": [
    "#### heading 4"
   ]
  },
  {
   "cell_type": "markdown",
   "metadata": {},
   "source": [
    "In this cell, observe how *slanted* and **bold** font is created. "
   ]
  },
  {
   "cell_type": "markdown",
   "metadata": {},
   "source": [
    "**Task:** Make the sentence \"I'm slanted.\" appear in *slanted* (italic) font, and the sentence \"I'm bold!\" appear in **bold** font."
   ]
  },
  {
   "cell_type": "markdown",
   "metadata": {},
   "source": [
    "*I'm slanted.*\n",
    "\n",
    "**I'm bold!**"
   ]
  },
  {
   "cell_type": "markdown",
   "metadata": {},
   "source": [
    "### 1.4 Getting help\n",
    "\n",
    "Jupyter notebooks support two ways of help: \n",
    "1. help for Jupyter notebooks via the \"Help menu\".\n",
    "2. in-line help for Python commands and objects via the `?` command.\n",
    "\n",
    "**Task:** Explore the Help menu. Take the User interface tour.\n",
    "\n",
    "**Task:** Execute the below cell to obtain the python documentation for the `print` function. Exit the help viewer by pressing `q`.\n",
    "\n",
    "**Task:** Modify the cell to look up the python documentation for the `help` function."
   ]
  },
  {
   "cell_type": "code",
   "execution_count": 3,
   "metadata": {},
   "outputs": [
    {
     "name": "stdout",
     "output_type": "stream",
     "text": [
      "\u001b[1;31mDocstring:\u001b[0m\n",
      "print(value, ..., sep=' ', end='\\n', file=sys.stdout, flush=False)\n",
      "\n",
      "Prints the values to a stream, or to sys.stdout by default.\n",
      "Optional keyword arguments:\n",
      "file:  a file-like object (stream); defaults to the current sys.stdout.\n",
      "sep:   string inserted between values, default a space.\n",
      "end:   string appended after the last value, default a newline.\n",
      "flush: whether to forcibly flush the stream.\n",
      "\u001b[1;31mType:\u001b[0m      builtin_function_or_method\n"
     ]
    }
   ],
   "source": [
    "print?"
   ]
  },
  {
   "cell_type": "markdown",
   "metadata": {},
   "source": [
    "### 1.5 Saving and loading Jupyter notebooks\n",
    "\n",
    "Save this notebook either by pressing the icon in the top left, or by hitting Ctrl+S.\n",
    "\n",
    "Notebooks are plain-text files in a format called JSON. \n",
    "\n",
    "**Task:** Use the file manager to navigate to the location of this notebook. Open the notebook with a text editor and verify that it's plain text. "
   ]
  },
  {
   "cell_type": "markdown",
   "metadata": {},
   "source": [
    "## 2 - The NumPy module\n",
    "\n",
    "Modules are imported using the `import` statement. To save us some typing, we usually use the `import ... as ...` idiom that lets us assing a shorthand for external modules. \n",
    "\n",
    "**Task:** Run the cell below to import `numpy`, under the name `np`."
   ]
  },
  {
   "cell_type": "code",
   "execution_count": 4,
   "metadata": {},
   "outputs": [],
   "source": [
    "import numpy as np"
   ]
  },
  {
   "cell_type": "markdown",
   "metadata": {},
   "source": [
    "### 2.1 Arrays\n",
    "\n",
    "The essential functionality of the `numpy` module is to provide an `array` class. The cell below creates an array from a python list.\n",
    "**Task:** execute the cell. Notice the last line has only the `a` in it. This causes the value of `a` to be printed."
   ]
  },
  {
   "cell_type": "code",
   "execution_count": 5,
   "metadata": {},
   "outputs": [
    {
     "data": {
      "text/plain": [
       "array([4, 5, 4, 3, 2, 7])"
      ]
     },
     "execution_count": 5,
     "metadata": {},
     "output_type": "execute_result"
    }
   ],
   "source": [
    "l = [4,5,4,3,2,7]\n",
    "a = np.array(l)\n",
    "a"
   ]
  },
  {
   "cell_type": "markdown",
   "metadata": {},
   "source": [
    "Numpy arrays can be two-dimensional, three-dimensional, essentially any-dimensional. These are created from nested lists.\n",
    "\n",
    "**Task:** execute the below cell. Notice that a square matrix is created."
   ]
  },
  {
   "cell_type": "code",
   "execution_count": 6,
   "metadata": {},
   "outputs": [
    {
     "data": {
      "text/plain": [
       "array([[1, 2, 3],\n",
       "       [4, 5, 6],\n",
       "       [7, 8, 9]])"
      ]
     },
     "execution_count": 6,
     "metadata": {},
     "output_type": "execute_result"
    }
   ],
   "source": [
    "l = [[1,2,3],\n",
    "     [4,5,6],\n",
    "     [7,8,9]]\n",
    "a = np.array(l)\n",
    "a"
   ]
  },
  {
   "cell_type": "markdown",
   "metadata": {},
   "source": [
    "Numpy arrays can be two-dimensional, three-dimensional, essentially any-dimensional. These are created from nested lists.\n",
    "\n",
    "**Task:** Extend the array a to be a 3x4 array with the numbers from 1-12 instead of 1-9.\n",
    "\n",
    "Remeber you can use *variable*.shape to get the shape of an array/matrix."
   ]
  },
  {
   "cell_type": "code",
   "execution_count": 10,
   "metadata": {},
   "outputs": [
    {
     "data": {
      "text/plain": [
       "(3, 3)"
      ]
     },
     "execution_count": 10,
     "metadata": {},
     "output_type": "execute_result"
    }
   ],
   "source": [
    "a.shape"
   ]
  },
  {
   "cell_type": "markdown",
   "metadata": {},
   "source": [
    "### 2.2 Random numbers\n",
    "\n",
    "Numpy can do much more and we'll cover it in detail next week. For now, please take a moment to explore the generation of random numbers using the `numpy.random` module. \n",
    "\n",
    "The 'rand' function provides a single random numbers between 0 and 1. \n",
    "\n",
    "**Task:** execute the below cell a couple of times and observe that each number is random. \n",
    "\n",
    "**Task (for advanced students)**: Use the `?` method to find out what arguments the `rand()` function takes and explore the result. "
   ]
  },
  {
   "cell_type": "code",
   "execution_count": 7,
   "metadata": {},
   "outputs": [
    {
     "data": {
      "text/plain": [
       "0.3756277251663377"
      ]
     },
     "execution_count": 7,
     "metadata": {},
     "output_type": "execute_result"
    }
   ],
   "source": [
    "np.random.rand()"
   ]
  },
  {
   "cell_type": "markdown",
   "metadata": {},
   "source": [
    "We will later use normally distributed numbers (\"gaussian noise\"). As you recall from your statistics courses, a normal distribution is characterised by its **mean** and **variance**.\n",
    "\n",
    "The cell below creates an array of size 10 with mean 0.0 and variance 1.0.\n",
    "\n",
    "**Task:** Run the cell below a couple of times and observe that the numbers generated are centered around 0.0, and that values close to 0.0 are more frequent than values larger than 1.0 or smaller than -1.0 ."
   ]
  },
  {
   "cell_type": "code",
   "execution_count": 8,
   "metadata": {
    "scrolled": true
   },
   "outputs": [
    {
     "data": {
      "text/plain": [
       "array([-0.55390264, -0.64193223, -0.10068167, -3.50714998,  1.49051586,\n",
       "        0.88811634,  0.76065976, -0.86350451, -0.74912317, -0.43336365])"
      ]
     },
     "execution_count": 8,
     "metadata": {},
     "output_type": "execute_result"
    }
   ],
   "source": [
    "b = np.random.normal(0., 1., 10)\n",
    "b"
   ]
  },
  {
   "cell_type": "markdown",
   "metadata": {},
   "source": [
    "What happens if we change the function call to \n",
    "\n",
    "np.random.normal(5., 1., 10), \n",
    "\n",
    "what if we call np.random.normal(0., 12., 10) \n",
    "\n",
    "or np.random.normal(0., 1., 50) instead? \n",
    "\n",
    "**Task:** First use the ? help functionality to investigate and then see if your answer is correct."
   ]
  },
  {
   "cell_type": "code",
   "execution_count": 9,
   "metadata": {},
   "outputs": [
    {
     "data": {
      "text/plain": [
       "array([-10.93895852,  -4.88249963, -22.54116492,  13.13890913,\n",
       "        -0.64536095])"
      ]
     },
     "execution_count": 9,
     "metadata": {},
     "output_type": "execute_result"
    },
    {
     "name": "stdout",
     "output_type": "stream",
     "text": [
      "\u001b[1;31mDocstring:\u001b[0m\n",
      "normal(loc=0.0, scale=1.0, size=None)\n",
      "\n",
      "Draw random samples from a normal (Gaussian) distribution.\n",
      "\n",
      "The probability density function of the normal distribution, first\n",
      "derived by De Moivre and 200 years later by both Gauss and Laplace\n",
      "independently [2]_, is often called the bell curve because of\n",
      "its characteristic shape (see the example below).\n",
      "\n",
      "The normal distributions occurs often in nature.  For example, it\n",
      "describes the commonly occurring distribution of samples influenced\n",
      "by a large number of tiny, random disturbances, each with its own\n",
      "unique distribution [2]_.\n",
      "\n",
      ".. note::\n",
      "    New code should use the ``normal`` method of a ``default_rng()``\n",
      "    instance instead; please see the :ref:`random-quick-start`.\n",
      "\n",
      "Parameters\n",
      "----------\n",
      "loc : float or array_like of floats\n",
      "    Mean (\"centre\") of the distribution.\n",
      "scale : float or array_like of floats\n",
      "    Standard deviation (spread or \"width\") of the distribution. Must be\n",
      "    non-negative.\n",
      "size : int or tuple of ints, optional\n",
      "    Output shape.  If the given shape is, e.g., ``(m, n, k)``, then\n",
      "    ``m * n * k`` samples are drawn.  If size is ``None`` (default),\n",
      "    a single value is returned if ``loc`` and ``scale`` are both scalars.\n",
      "    Otherwise, ``np.broadcast(loc, scale).size`` samples are drawn.\n",
      "\n",
      "Returns\n",
      "-------\n",
      "out : ndarray or scalar\n",
      "    Drawn samples from the parameterized normal distribution.\n",
      "\n",
      "See Also\n",
      "--------\n",
      "scipy.stats.norm : probability density function, distribution or\n",
      "    cumulative density function, etc.\n",
      "Generator.normal: which should be used for new code.\n",
      "\n",
      "Notes\n",
      "-----\n",
      "The probability density for the Gaussian distribution is\n",
      "\n",
      ".. math:: p(x) = \\frac{1}{\\sqrt{ 2 \\pi \\sigma^2 }}\n",
      "                 e^{ - \\frac{ (x - \\mu)^2 } {2 \\sigma^2} },\n",
      "\n",
      "where :math:`\\mu` is the mean and :math:`\\sigma` the standard\n",
      "deviation. The square of the standard deviation, :math:`\\sigma^2`,\n",
      "is called the variance.\n",
      "\n",
      "The function has its peak at the mean, and its \"spread\" increases with\n",
      "the standard deviation (the function reaches 0.607 times its maximum at\n",
      ":math:`x + \\sigma` and :math:`x - \\sigma` [2]_).  This implies that\n",
      "normal is more likely to return samples lying close to the mean, rather\n",
      "than those far away.\n",
      "\n",
      "References\n",
      "----------\n",
      ".. [1] Wikipedia, \"Normal distribution\",\n",
      "       https://en.wikipedia.org/wiki/Normal_distribution\n",
      ".. [2] P. R. Peebles Jr., \"Central Limit Theorem\" in \"Probability,\n",
      "       Random Variables and Random Signal Principles\", 4th ed., 2001,\n",
      "       pp. 51, 51, 125.\n",
      "\n",
      "Examples\n",
      "--------\n",
      "Draw samples from the distribution:\n",
      "\n",
      ">>> mu, sigma = 0, 0.1 # mean and standard deviation\n",
      ">>> s = np.random.normal(mu, sigma, 1000)\n",
      "\n",
      "Verify the mean and the variance:\n",
      "\n",
      ">>> abs(mu - np.mean(s))\n",
      "0.0  # may vary\n",
      "\n",
      ">>> abs(sigma - np.std(s, ddof=1))\n",
      "0.1  # may vary\n",
      "\n",
      "Display the histogram of the samples, along with\n",
      "the probability density function:\n",
      "\n",
      ">>> import matplotlib.pyplot as plt\n",
      ">>> count, bins, ignored = plt.hist(s, 30, density=True)\n",
      ">>> plt.plot(bins, 1/(sigma * np.sqrt(2 * np.pi)) *\n",
      "...                np.exp( - (bins - mu)**2 / (2 * sigma**2) ),\n",
      "...          linewidth=2, color='r')\n",
      ">>> plt.show()\n",
      "\n",
      "Two-by-four array of samples from N(3, 6.25):\n",
      "\n",
      ">>> np.random.normal(3, 2.5, size=(2, 4))\n",
      "array([[-4.49401501,  4.00950034, -1.81814867,  7.29718677],   # random\n",
      "       [ 0.39924804,  4.68456316,  4.99394529,  4.84057254]])  # random\n",
      "\u001b[1;31mType:\u001b[0m      builtin_function_or_method\n"
     ]
    }
   ],
   "source": [
    "np.random.normal?\n",
    "b = np.random.normal(0., 12., 5)\n",
    "b\n",
    "\n",
    "#Do your investigations here"
   ]
  },
  {
   "cell_type": "markdown",
   "metadata": {},
   "source": [
    "## 3 - Plotting with matplotlib\n",
    "\n",
    "`matplotlib` is the de-facto standard tool for plotting in python. The essential functionality is contained in the `pyplot` submodule. Let's import it:"
   ]
  },
  {
   "cell_type": "code",
   "execution_count": 10,
   "metadata": {},
   "outputs": [],
   "source": [
    "import matplotlib.pyplot as plt"
   ]
  },
  {
   "cell_type": "markdown",
   "metadata": {},
   "source": [
    "By default, `matplotlib` opens a new window for each plot. Jupyter notebooks have special support for `matplotlib` so that it can display its plots inside the notebook, without creating a new window. This is activated by the following cell: "
   ]
  },
  {
   "cell_type": "code",
   "execution_count": 27,
   "metadata": {},
   "outputs": [],
   "source": [
    "%matplotlib inline"
   ]
  },
  {
   "cell_type": "markdown",
   "metadata": {},
   "source": [
    "### 3.1 Plotting lines\n",
    "`matplotlib` can handle lists or arrays. Let's make a figure from a list:"
   ]
  },
  {
   "cell_type": "code",
   "execution_count": 11,
   "metadata": {},
   "outputs": [
    {
     "data": {
      "text/plain": [
       "[<matplotlib.lines.Line2D at 0x16c24abb4c0>]"
      ]
     },
     "execution_count": 11,
     "metadata": {},
     "output_type": "execute_result"
    },
    {
     "data": {
      "image/png": "[encoded data removed]",
      "text/plain": [
       "<Figure size 432x288 with 1 Axes>"
      ]
     },
     "metadata": {
      "needs_background": "light"
     },
     "output_type": "display_data"
    }
   ],
   "source": [
    "l = [4,3,6,5,4,7,3,5,3,4]\n",
    "arr = np.array(l)\n",
    "plt.plot(arr)"
   ]
  },
  {
   "cell_type": "markdown",
   "metadata": {},
   "source": [
    "**Task**: Change the above cell to use an array for plotting. Create an array from the list as above, and passi this to the `plot` function. "
   ]
  },
  {
   "cell_type": "markdown",
   "metadata": {},
   "source": [
    "### 3.2 Scatterplots - plotting point clouds\n",
    "\n",
    "We will often plot \"point clouds\" with `matplotlib`, so-called scatterplots. Here, we will plot the distribution of a bivariate (i.e. 2-dimensional) point cloud distributed around 0.0 with variance 1.0 . \n",
    "\n",
    "The cell below creates a point cloud with 100 points using `numpy` random numbers. Note how we create two arrays using `numpy.random.normal`, one for `x` coordinates, and one for `y` coordinates. The point cloud is then plotted using the `scatter` function. \n",
    "\n",
    "**Task:** execute the cell multiple times and observe that the random points are different each time - because they're random. \n",
    "\n",
    "**Task (advanced):** Change the location shape of the point cloud by changing the mean and variance of `x` and `y` points.\n",
    "\n",
    "**Task (advanced):** look up what `plt.gca()` is doing."
   ]
  },
  {
   "cell_type": "code",
   "execution_count": 12,
   "metadata": {},
   "outputs": [
    {
     "data": {
      "text/plain": [
       "(-6.034277135996042,\n",
       " 27.827008237336823,\n",
       " -12.398891134498927,\n",
       " 27.79816001117623)"
      ]
     },
     "execution_count": 12,
     "metadata": {},
     "output_type": "execute_result"
    },
    {
     "data": {
      "image/png": "[encoded data removed]",
      "text/plain": [
       "<Figure size 432x288 with 1 Axes>"
      ]
     },
     "metadata": {
      "needs_background": "light"
     },
     "output_type": "display_data"
    },
    {
     "name": "stdout",
     "output_type": "stream",
     "text": [
      "\u001b[1;31mDocstring:\u001b[0m\n",
      "normal(loc=0.0, scale=1.0, size=None)\n",
      "\n",
      "Draw random samples from a normal (Gaussian) distribution.\n",
      "\n",
      "The probability density function of the normal distribution, first\n",
      "derived by De Moivre and 200 years later by both Gauss and Laplace\n",
      "independently [2]_, is often called the bell curve because of\n",
      "its characteristic shape (see the example below).\n",
      "\n",
      "The normal distributions occurs often in nature.  For example, it\n",
      "describes the commonly occurring distribution of samples influenced\n",
      "by a large number of tiny, random disturbances, each with its own\n",
      "unique distribution [2]_.\n",
      "\n",
      ".. note::\n",
      "    New code should use the ``normal`` method of a ``default_rng()``\n",
      "    instance instead; please see the :ref:`random-quick-start`.\n",
      "\n",
      "Parameters\n",
      "----------\n",
      "loc : float or array_like of floats\n",
      "    Mean (\"centre\") of the distribution.\n",
      "scale : float or array_like of floats\n",
      "    Standard deviation (spread or \"width\") of the distribution. Must be\n",
      "    non-negative.\n",
      "size : int or tuple of ints, optional\n",
      "    Output shape.  If the given shape is, e.g., ``(m, n, k)``, then\n",
      "    ``m * n * k`` samples are drawn.  If size is ``None`` (default),\n",
      "    a single value is returned if ``loc`` and ``scale`` are both scalars.\n",
      "    Otherwise, ``np.broadcast(loc, scale).size`` samples are drawn.\n",
      "\n",
      "Returns\n",
      "-------\n",
      "out : ndarray or scalar\n",
      "    Drawn samples from the parameterized normal distribution.\n",
      "\n",
      "See Also\n",
      "--------\n",
      "scipy.stats.norm : probability density function, distribution or\n",
      "    cumulative density function, etc.\n",
      "Generator.normal: which should be used for new code.\n",
      "\n",
      "Notes\n",
      "-----\n",
      "The probability density for the Gaussian distribution is\n",
      "\n",
      ".. math:: p(x) = \\frac{1}{\\sqrt{ 2 \\pi \\sigma^2 }}\n",
      "                 e^{ - \\frac{ (x - \\mu)^2 } {2 \\sigma^2} },\n",
      "\n",
      "where :math:`\\mu` is the mean and :math:`\\sigma` the standard\n",
      "deviation. The square of the standard deviation, :math:`\\sigma^2`,\n",
      "is called the variance.\n",
      "\n",
      "The function has its peak at the mean, and its \"spread\" increases with\n",
      "the standard deviation (the function reaches 0.607 times its maximum at\n",
      ":math:`x + \\sigma` and :math:`x - \\sigma` [2]_).  This implies that\n",
      "normal is more likely to return samples lying close to the mean, rather\n",
      "than those far away.\n",
      "\n",
      "References\n",
      "----------\n",
      ".. [1] Wikipedia, \"Normal distribution\",\n",
      "       https://en.wikipedia.org/wiki/Normal_distribution\n",
      ".. [2] P. R. Peebles Jr., \"Central Limit Theorem\" in \"Probability,\n",
      "       Random Variables and Random Signal Principles\", 4th ed., 2001,\n",
      "       pp. 51, 51, 125.\n",
      "\n",
      "Examples\n",
      "--------\n",
      "Draw samples from the distribution:\n",
      "\n",
      ">>> mu, sigma = 0, 0.1 # mean and standard deviation\n",
      ">>> s = np.random.normal(mu, sigma, 1000)\n",
      "\n",
      "Verify the mean and the variance:\n",
      "\n",
      ">>> abs(mu - np.mean(s))\n",
      "0.0  # may vary\n",
      "\n",
      ">>> abs(sigma - np.std(s, ddof=1))\n",
      "0.1  # may vary\n",
      "\n",
      "Display the histogram of the samples, along with\n",
      "the probability density function:\n",
      "\n",
      ">>> import matplotlib.pyplot as plt\n",
      ">>> count, bins, ignored = plt.hist(s, 30, density=True)\n",
      ">>> plt.plot(bins, 1/(sigma * np.sqrt(2 * np.pi)) *\n",
      "...                np.exp( - (bins - mu)**2 / (2 * sigma**2) ),\n",
      "...          linewidth=2, color='r')\n",
      ">>> plt.show()\n",
      "\n",
      "Two-by-four array of samples from N(3, 6.25):\n",
      "\n",
      ">>> np.random.normal(3, 2.5, size=(2, 4))\n",
      "array([[-4.49401501,  4.00950034, -1.81814867,  7.29718677],   # random\n",
      "       [ 0.39924804,  4.68456316,  4.99394529,  4.84057254]])  # random\n",
      "\u001b[1;31mType:\u001b[0m      builtin_function_or_method\n"
     ]
    }
   ],
   "source": [
    "cloud1_x = np.random.normal(10.0, 6.5, 100)\n",
    "cloud1_y = np.random.normal(10.0, 8.0, 100)\n",
    "np.random.normal?\n",
    "ax = plt.scatter(cloud1_x, cloud1_y)\n",
    "plt.gca().axis('equal')\n",
    "# plt.gca?"
   ]
  },
  {
   "cell_type": "markdown",
   "metadata": {},
   "source": [
    "The `scatter` function lets you control the appearance of the points. For example, it can also plot red crosses instead of blue circles:"
   ]
  },
  {
   "cell_type": "code",
   "execution_count": 46,
   "metadata": {},
   "outputs": [
    {
     "data": {
      "text/plain": [
       "<matplotlib.collections.PathCollection at 0x24f9aeedf70>"
      ]
     },
     "execution_count": 46,
     "metadata": {},
     "output_type": "execute_result"
    },
    {
     "data": {
      "image/png": "[encoded data removed]",
      "text/plain": [
       "<Figure size 432x288 with 1 Axes>"
      ]
     },
     "metadata": {
      "needs_background": "light"
     },
     "output_type": "display_data"
    }
   ],
   "source": [
    "plt.scatter(cloud1_x, cloud1_y, marker='x', c=\"red\")"
   ]
  },
  {
   "cell_type": "markdown",
   "metadata": {},
   "source": [
    "## 4 - Pandas and Data Frames \n",
    "\n",
    "The pandas module is dedicated to managing data. It is built around the `DataFrame` concept. A `DataFrame` is essentially a multidimensional array that supports textual identifiers for rows and columns. It can also mix different data types like numbers and strings, e.g. to add labels to data. \n",
    "\n",
    "The cell below imports pandas and create a `DataFrame` from our point cloud. Take a minute to observe that we first create a 2-dimensional array from `cloud1_x` and `cloud1_y`.\n",
    "\n",
    "**Task:** run the cell below and observe that the `DataFrame` is nicely shown in tabular format. "
   ]
  },
  {
   "cell_type": "code",
   "execution_count": 13,
   "metadata": {},
   "outputs": [
    {
     "data": {
      "text/html": [
       "<div>\n",
       "<style scoped>\n",
       "    .dataframe tbody tr th:only-of-type {\n",
       "        vertical-align: middle;\n",
       "    }\n",
       "\n",
       "    .dataframe tbody tr th {\n",
       "        vertical-align: top;\n",
       "    }\n",
       "\n",
       "    .dataframe thead th {\n",
       "        text-align: right;\n",
       "    }\n",
       "</style>\n",
       "<table border=\"1\" class=\"dataframe\">\n",
       "  <thead>\n",
       "    <tr style=\"text-align: right;\">\n",
       "      <th></th>\n",
       "      <th>0</th>\n",
       "      <th>1</th>\n",
       "      <th>2</th>\n",
       "      <th>3</th>\n",
       "      <th>4</th>\n",
       "      <th>5</th>\n",
       "      <th>6</th>\n",
       "      <th>7</th>\n",
       "      <th>8</th>\n",
       "      <th>9</th>\n",
       "      <th>...</th>\n",
       "      <th>90</th>\n",
       "      <th>91</th>\n",
       "      <th>92</th>\n",
       "      <th>93</th>\n",
       "      <th>94</th>\n",
       "      <th>95</th>\n",
       "      <th>96</th>\n",
       "      <th>97</th>\n",
       "      <th>98</th>\n",
       "      <th>99</th>\n",
       "    </tr>\n",
       "  </thead>\n",
       "  <tbody>\n",
       "    <tr>\n",
       "      <th>0</th>\n",
       "      <td>14.181598</td>\n",
       "      <td>18.434981</td>\n",
       "      <td>7.628148</td>\n",
       "      <td>16.528602</td>\n",
       "      <td>5.231455</td>\n",
       "      <td>16.819358</td>\n",
       "      <td>8.497496</td>\n",
       "      <td>12.854060</td>\n",
       "      <td>5.354948</td>\n",
       "      <td>-4.495128</td>\n",
       "      <td>...</td>\n",
       "      <td>-4.160935</td>\n",
       "      <td>15.080296</td>\n",
       "      <td>13.154800</td>\n",
       "      <td>10.087360</td>\n",
       "      <td>12.773553</td>\n",
       "      <td>4.036158</td>\n",
       "      <td>20.205973</td>\n",
       "      <td>10.917613</td>\n",
       "      <td>24.741875</td>\n",
       "      <td>10.389083</td>\n",
       "    </tr>\n",
       "    <tr>\n",
       "      <th>1</th>\n",
       "      <td>18.478542</td>\n",
       "      <td>12.547669</td>\n",
       "      <td>5.586443</td>\n",
       "      <td>-1.210224</td>\n",
       "      <td>0.118330</td>\n",
       "      <td>13.362515</td>\n",
       "      <td>4.879003</td>\n",
       "      <td>15.443782</td>\n",
       "      <td>14.223132</td>\n",
       "      <td>18.035900</td>\n",
       "      <td>...</td>\n",
       "      <td>9.900581</td>\n",
       "      <td>21.407152</td>\n",
       "      <td>13.206654</td>\n",
       "      <td>17.520125</td>\n",
       "      <td>4.767169</td>\n",
       "      <td>21.145184</td>\n",
       "      <td>2.986372</td>\n",
       "      <td>-1.839678</td>\n",
       "      <td>4.033838</td>\n",
       "      <td>20.410292</td>\n",
       "    </tr>\n",
       "  </tbody>\n",
       "</table>\n",
       "<p>2 rows × 100 columns</p>\n",
       "</div>"
      ],
      "text/plain": [
       "          0          1         2          3         4          5         6   \\\n",
       "0  14.181598  18.434981  7.628148  16.528602  5.231455  16.819358  8.497496   \n",
       "1  18.478542  12.547669  5.586443  -1.210224  0.118330  13.362515  4.879003   \n",
       "\n",
       "          7          8          9   ...        90         91         92  \\\n",
       "0  12.854060   5.354948  -4.495128  ... -4.160935  15.080296  13.154800   \n",
       "1  15.443782  14.223132  18.035900  ...  9.900581  21.407152  13.206654   \n",
       "\n",
       "          93         94         95         96         97         98         99  \n",
       "0  10.087360  12.773553   4.036158  20.205973  10.917613  24.741875  10.389083  \n",
       "1  17.520125   4.767169  21.145184   2.986372  -1.839678   4.033838  20.410292  \n",
       "\n",
       "[2 rows x 100 columns]"
      ]
     },
     "execution_count": 13,
     "metadata": {},
     "output_type": "execute_result"
    }
   ],
   "source": [
    "import pandas as pd\n",
    "cloud1_2dim = np.array([cloud1_x, cloud1_y])\n",
    "df = pd.DataFrame(cloud1_2dim)\n",
    "df"
   ]
  },
  {
   "cell_type": "markdown",
   "metadata": {},
   "source": [
    "Let's beautify this data Frame a little. First, we want to transpose it so that each point is a row, and columns correspond to coordinates. By convention, this is how multivariate data is stored. \n",
    "\n",
    "**Task:** run the cell below and observe that DataFrame is transposed, with two columns corresponding to two dimensions of the point cloud. \n",
    "\n",
    "**Note:** If you run the cell multiple times the `DataFrame` will transpose back and forth. Make sure the `DataFrame` is printed with 100 rows x 2 columns before continuing."
   ]
  },
  {
   "cell_type": "code",
   "execution_count": 14,
   "metadata": {},
   "outputs": [
    {
     "data": {
      "text/html": [
       "<div>\n",
       "<style scoped>\n",
       "    .dataframe tbody tr th:only-of-type {\n",
       "        vertical-align: middle;\n",
       "    }\n",
       "\n",
       "    .dataframe tbody tr th {\n",
       "        vertical-align: top;\n",
       "    }\n",
       "\n",
       "    .dataframe thead th {\n",
       "        text-align: right;\n",
       "    }\n",
       "</style>\n",
       "<table border=\"1\" class=\"dataframe\">\n",
       "  <thead>\n",
       "    <tr style=\"text-align: right;\">\n",
       "      <th></th>\n",
       "      <th>0</th>\n",
       "      <th>1</th>\n",
       "    </tr>\n",
       "  </thead>\n",
       "  <tbody>\n",
       "    <tr>\n",
       "      <th>0</th>\n",
       "      <td>14.181598</td>\n",
       "      <td>18.478542</td>\n",
       "    </tr>\n",
       "    <tr>\n",
       "      <th>1</th>\n",
       "      <td>18.434981</td>\n",
       "      <td>12.547669</td>\n",
       "    </tr>\n",
       "    <tr>\n",
       "      <th>2</th>\n",
       "      <td>7.628148</td>\n",
       "      <td>5.586443</td>\n",
       "    </tr>\n",
       "    <tr>\n",
       "      <th>3</th>\n",
       "      <td>16.528602</td>\n",
       "      <td>-1.210224</td>\n",
       "    </tr>\n",
       "    <tr>\n",
       "      <th>4</th>\n",
       "      <td>5.231455</td>\n",
       "      <td>0.118330</td>\n",
       "    </tr>\n",
       "    <tr>\n",
       "      <th>...</th>\n",
       "      <td>...</td>\n",
       "      <td>...</td>\n",
       "    </tr>\n",
       "    <tr>\n",
       "      <th>95</th>\n",
       "      <td>4.036158</td>\n",
       "      <td>21.145184</td>\n",
       "    </tr>\n",
       "    <tr>\n",
       "      <th>96</th>\n",
       "      <td>20.205973</td>\n",
       "      <td>2.986372</td>\n",
       "    </tr>\n",
       "    <tr>\n",
       "      <th>97</th>\n",
       "      <td>10.917613</td>\n",
       "      <td>-1.839678</td>\n",
       "    </tr>\n",
       "    <tr>\n",
       "      <th>98</th>\n",
       "      <td>24.741875</td>\n",
       "      <td>4.033838</td>\n",
       "    </tr>\n",
       "    <tr>\n",
       "      <th>99</th>\n",
       "      <td>10.389083</td>\n",
       "      <td>20.410292</td>\n",
       "    </tr>\n",
       "  </tbody>\n",
       "</table>\n",
       "<p>100 rows × 2 columns</p>\n",
       "</div>"
      ],
      "text/plain": [
       "            0          1\n",
       "0   14.181598  18.478542\n",
       "1   18.434981  12.547669\n",
       "2    7.628148   5.586443\n",
       "3   16.528602  -1.210224\n",
       "4    5.231455   0.118330\n",
       "..        ...        ...\n",
       "95   4.036158  21.145184\n",
       "96  20.205973   2.986372\n",
       "97  10.917613  -1.839678\n",
       "98  24.741875   4.033838\n",
       "99  10.389083  20.410292\n",
       "\n",
       "[100 rows x 2 columns]"
      ]
     },
     "execution_count": 14,
     "metadata": {},
     "output_type": "execute_result"
    }
   ],
   "source": [
    "df = df.transpose()\n",
    "df"
   ]
  },
  {
   "cell_type": "markdown",
   "metadata": {},
   "source": [
    "A `DataFrames` supports naming columns and rows. It also allows adding new columns with per-point attributes. We will learn the nitty-gritty of this functionality later in this module. For now, the below code is provided that does the following:\n",
    "1. name column zero \"x\" and column 1 \"y\"\n",
    "2. name each point \"cloud1_&lt;x>\" where &lt;x> is a running index\n",
    "3. add a common label \"cloud1\" to all points"
   ]
  },
  {
   "cell_type": "code",
   "execution_count": 15,
   "metadata": {},
   "outputs": [
    {
     "data": {
      "text/html": [
       "<div>\n",
       "<style scoped>\n",
       "    .dataframe tbody tr th:only-of-type {\n",
       "        vertical-align: middle;\n",
       "    }\n",
       "\n",
       "    .dataframe tbody tr th {\n",
       "        vertical-align: top;\n",
       "    }\n",
       "\n",
       "    .dataframe thead th {\n",
       "        text-align: right;\n",
       "    }\n",
       "</style>\n",
       "<table border=\"1\" class=\"dataframe\">\n",
       "  <thead>\n",
       "    <tr style=\"text-align: right;\">\n",
       "      <th></th>\n",
       "      <th>x</th>\n",
       "      <th>y</th>\n",
       "      <th>label</th>\n",
       "    </tr>\n",
       "  </thead>\n",
       "  <tbody>\n",
       "    <tr>\n",
       "      <th>cloud1_0</th>\n",
       "      <td>14.181598</td>\n",
       "      <td>18.478542</td>\n",
       "      <td>cloud1</td>\n",
       "    </tr>\n",
       "    <tr>\n",
       "      <th>cloud1_1</th>\n",
       "      <td>18.434981</td>\n",
       "      <td>12.547669</td>\n",
       "      <td>cloud1</td>\n",
       "    </tr>\n",
       "    <tr>\n",
       "      <th>cloud1_2</th>\n",
       "      <td>7.628148</td>\n",
       "      <td>5.586443</td>\n",
       "      <td>cloud1</td>\n",
       "    </tr>\n",
       "    <tr>\n",
       "      <th>cloud1_3</th>\n",
       "      <td>16.528602</td>\n",
       "      <td>-1.210224</td>\n",
       "      <td>cloud1</td>\n",
       "    </tr>\n",
       "    <tr>\n",
       "      <th>cloud1_4</th>\n",
       "      <td>5.231455</td>\n",
       "      <td>0.118330</td>\n",
       "      <td>cloud1</td>\n",
       "    </tr>\n",
       "    <tr>\n",
       "      <th>...</th>\n",
       "      <td>...</td>\n",
       "      <td>...</td>\n",
       "      <td>...</td>\n",
       "    </tr>\n",
       "    <tr>\n",
       "      <th>cloud1_95</th>\n",
       "      <td>4.036158</td>\n",
       "      <td>21.145184</td>\n",
       "      <td>cloud1</td>\n",
       "    </tr>\n",
       "    <tr>\n",
       "      <th>cloud1_96</th>\n",
       "      <td>20.205973</td>\n",
       "      <td>2.986372</td>\n",
       "      <td>cloud1</td>\n",
       "    </tr>\n",
       "    <tr>\n",
       "      <th>cloud1_97</th>\n",
       "      <td>10.917613</td>\n",
       "      <td>-1.839678</td>\n",
       "      <td>cloud1</td>\n",
       "    </tr>\n",
       "    <tr>\n",
       "      <th>cloud1_98</th>\n",
       "      <td>24.741875</td>\n",
       "      <td>4.033838</td>\n",
       "      <td>cloud1</td>\n",
       "    </tr>\n",
       "    <tr>\n",
       "      <th>cloud1_99</th>\n",
       "      <td>10.389083</td>\n",
       "      <td>20.410292</td>\n",
       "      <td>cloud1</td>\n",
       "    </tr>\n",
       "  </tbody>\n",
       "</table>\n",
       "<p>100 rows × 3 columns</p>\n",
       "</div>"
      ],
      "text/plain": [
       "                   x          y   label\n",
       "cloud1_0   14.181598  18.478542  cloud1\n",
       "cloud1_1   18.434981  12.547669  cloud1\n",
       "cloud1_2    7.628148   5.586443  cloud1\n",
       "cloud1_3   16.528602  -1.210224  cloud1\n",
       "cloud1_4    5.231455   0.118330  cloud1\n",
       "...              ...        ...     ...\n",
       "cloud1_95   4.036158  21.145184  cloud1\n",
       "cloud1_96  20.205973   2.986372  cloud1\n",
       "cloud1_97  10.917613  -1.839678  cloud1\n",
       "cloud1_98  24.741875   4.033838  cloud1\n",
       "cloud1_99  10.389083  20.410292  cloud1\n",
       "\n",
       "[100 rows x 3 columns]"
      ]
     },
     "execution_count": 15,
     "metadata": {},
     "output_type": "execute_result"
    }
   ],
   "source": [
    "df.columns = [\"x\", \"y\"]\n",
    "point_names = [\"cloud1_{}\".format(i) for i in range(len(cloud1_x))]\n",
    "df.index = point_names\n",
    "df['label'] = 'cloud1'\n",
    "df"
   ]
  },
  {
   "cell_type": "markdown",
   "metadata": {},
   "source": [
    "Why, you may ask? What is this good for? \n",
    "\n",
    "Well, it is actually a very powerful feature for data analysis! The labels, point names, column names etc. allow to specify a way to select parts of the data frame, like all `x` coordinates:"
   ]
  },
  {
   "cell_type": "code",
   "execution_count": 56,
   "metadata": {},
   "outputs": [
    {
     "data": {
      "text/plain": [
       "cloud1_0      5.081613\n",
       "cloud1_1      2.309441\n",
       "cloud1_2      2.771301\n",
       "cloud1_3     20.087239\n",
       "cloud1_4      0.673220\n",
       "               ...    \n",
       "cloud1_95    17.900224\n",
       "cloud1_96    20.361026\n",
       "cloud1_97     3.232200\n",
       "cloud1_98    -2.658257\n",
       "cloud1_99    17.003538\n",
       "Name: x, Length: 100, dtype: float64"
      ]
     },
     "execution_count": 56,
     "metadata": {},
     "output_type": "execute_result"
    }
   ],
   "source": [
    "df['x']"
   ]
  },
  {
   "cell_type": "markdown",
   "metadata": {},
   "source": [
    "... or the `y` coordinate of the point named `cloud1_3`:"
   ]
  },
  {
   "cell_type": "code",
   "execution_count": 16,
   "metadata": {},
   "outputs": [
    {
     "data": {
      "text/plain": [
       "y   -1.210224\n",
       "Name: cloud1_3, dtype: object"
      ]
     },
     "execution_count": 16,
     "metadata": {},
     "output_type": "execute_result"
    }
   ],
   "source": [
    "df.loc['cloud1_3',['y']]"
   ]
  },
  {
   "cell_type": "markdown",
   "metadata": {},
   "source": [
    "**Task (advanced)**: write code that selects all `x` values less than zero, in the points labeled `cloud1_34` to `cloud1_43`."
   ]
  },
  {
   "cell_type": "code",
   "execution_count": 41,
   "metadata": {},
   "outputs": [
    {
     "data": {
      "text/plain": [
       "Series([], Name: x, dtype: float64)"
      ]
     },
     "execution_count": 41,
     "metadata": {},
     "output_type": "execute_result"
    }
   ],
   "source": [
    "in_range = df.loc['cloud1_34' : 'cloud1_43']['x']\n",
    "less_than_0 = in_range.loc[df['x'] < 0]\n",
    "less_than_0"
   ]
  },
  {
   "cell_type": "markdown",
   "metadata": {},
   "source": [
    "## 5 - scikit-learn\n",
    "\n",
    "The final part of today's practical is a look at the Scikit-learn module, a module for predictive data analysis. Scikit-learn contains tools for supervised and unsupervised learning for classification, regression, clustering, among other use cases. See the [scikit-learn home page](https://scikit-learn.org/stable/index.html) for more details!\n",
    "\n",
    "For now we are interested in a simple classifier, the Naive Bayes classifier. It can be trained to separate classes of data points. For training, it takes examples of each class and estimates mean and variance of the associated coordinates (or *features*). The resulting parameters form the *model* of the Naive Bayes Classifier. \n",
    "\n",
    "Let's start by importing the Naive Bayes sub module from the scikit-learn module. In Python terms Scikit-learn is called `sklearn` and the naive bayes module `GaussianNB`. "
   ]
  },
  {
   "cell_type": "code",
   "execution_count": null,
   "metadata": {},
   "outputs": [],
   "source": [
    "from sklearn.naive_bayes import GaussianNB as nb"
   ]
  },
  {
   "cell_type": "markdown",
   "metadata": {},
   "source": [
    "Let's make some data for the classifier to classify. We use two point clouds, one with centered on [0.0,0.0] with variance 1.0 (as above), and a second onewith center [3.0, 3.0] and variance 1. \n",
    "\n",
    "**Task:** run the cell below. It creates two point clouds, stores each in a `DataFrame`, complete with labels and indices. \n",
    "\n",
    "**Note:** \n",
    "The cell below creates a two-dimensional point cloud directly by using a two-dimensional center `[3.,3.]`. The `size` argument specifies that the resulting array should have 100 rows and 2 columns (`[100,1]`). We will cover these `numpy` features in the next unit. For now, it's ok to take the code as given."
   ]
  },
  {
   "cell_type": "code",
   "execution_count": null,
   "metadata": {},
   "outputs": [],
   "source": [
    "#create point clouds\n",
    "cloud1 = np.random.normal([0.,0.], 1., size=[100,2])\n",
    "cloud2 = np.random.normal([3.,3.], 1., size=[100,2])\n",
    "\n",
    "#create DataFrame for first cloud\n",
    "df1 = pd.DataFrame(cloud1, columns=['x', 'y'], index=[\"cloud1_{}\".format(i) for i in range(len(cloud1))])\n",
    "df1['label'] = 'cloud1'\n",
    "                   \n",
    "#create DataFrame for second cloud\n",
    "df2 = pd.DataFrame(cloud2, columns=['x', 'y'], index=[\"cloud2_{}\".format(i) for i in range(len(cloud2))]) \n",
    "df2['label'] = 'cloud2'\n",
    "                   \n",
    "df1"
   ]
  },
  {
   "cell_type": "code",
   "execution_count": null,
   "metadata": {},
   "outputs": [],
   "source": [
    "df2"
   ]
  },
  {
   "cell_type": "markdown",
   "metadata": {},
   "source": [
    "Let's plot the two clouds. Conveniently, `pandas` has integrated matplotlib so that we can use the sophisticated data selection tools of a DataFrame for plotting. Again, this is mainly intended as a demonstration, we'll cover the details of what's going on below in a later unit.\n",
    "\n",
    "**Task**: Run the cell below and observe how two point clouds are plotted. Can you identify the one with mean [0,0] and the one with mean [3,3]?\n",
    "\n",
    "**Task (advanced students):** look up the documentation of `DataFrame.plot.scatter` and try to understand what's going on in the cell below. "
   ]
  },
  {
   "cell_type": "code",
   "execution_count": null,
   "metadata": {},
   "outputs": [],
   "source": [
    "plt.scatter(df1['x'], df1['y'], marker='o', c='blue')\n",
    "plt.scatter(df2['x'], df2['y'], marker='x', c='red')"
   ]
  },
  {
   "cell_type": "markdown",
   "metadata": {},
   "source": [
    "**Task:** Create your own two clouds, one centered around 4,4 and one around 8,8. \n",
    "\n",
    "All the code but the actual creation of the clouds is given below, fill it out."
   ]
  },
  {
   "cell_type": "code",
   "execution_count": null,
   "metadata": {},
   "outputs": [],
   "source": [
    "#create point clouds\n",
    "my_cloud1 = \n",
    "my_cloud2 = \n",
    "\n",
    "#create DataFrame for first cloud\n",
    "df3 = pd.DataFrame(my_cloud1, columns=['x', 'y'], index=[\"my_cloud1_{}\".format(i) for i in range(len(my_cloud1))])\n",
    "df3['label'] = 'my_cloud1'\n",
    "                   \n",
    "#create DataFrame for second cloud\n",
    "df4 = pd.DataFrame(my_cloud2, columns=['x', 'y'], index=[\"my_cloud2_{}\".format(i) for i in range(len(my_cloud2))]) \n",
    "df4['label'] = 'my_cloud2'\n",
    "                   \n",
    "df3"
   ]
  },
  {
   "cell_type": "markdown",
   "metadata": {},
   "source": [
    "Now we have two point clouds, we can train the classifier to learn to separate them. \n",
    "\n",
    "Scikit-learn has a standardised way of training classifiers, using the `fit()` method. All we have to do is to give it data and labels. To make our life easier, we combine the two data frames:"
   ]
  },
  {
   "cell_type": "code",
   "execution_count": null,
   "metadata": {},
   "outputs": [],
   "source": [
    "df_all = df1.append(df2)\n",
    "df_all"
   ]
  },
  {
   "cell_type": "markdown",
   "metadata": {},
   "source": [
    "`df_all` now contains data from both point clouds, with the `label` column indicating which cloud each datapoint belongs to. \n",
    "\n",
    "The `label` column is now the label for training.\n",
    "\n",
    "We can finally train the Scikit-learn classifier!"
   ]
  },
  {
   "cell_type": "code",
   "execution_count": null,
   "metadata": {},
   "outputs": [],
   "source": [
    "from sklearn.naive_bayes import GaussianNB\n",
    "gnb = GaussianNB()\n",
    "gnb.fit(X=df_all[['x','y']], y=df_all['label'])\n"
   ]
  },
  {
   "cell_type": "markdown",
   "metadata": {},
   "source": [
    "Finally, we need to check what the Naive Bayes classifier has learnt. To this end, we create a third point cloud with mean [1.5,1.5] and variance 1.5.  "
   ]
  },
  {
   "cell_type": "code",
   "execution_count": null,
   "metadata": {},
   "outputs": [],
   "source": [
    "cloud3 = np.random.normal([1.5,1.5], 1.5, size=[100,2])\n",
    "df3 = pd.DataFrame(cloud3, columns=['x', 'y'])"
   ]
  },
  {
   "cell_type": "markdown",
   "metadata": {},
   "source": [
    "This cloud sits right on top of the two existing clouds! Let's see how it looks like on top of the two existing clouds:"
   ]
  },
  {
   "cell_type": "code",
   "execution_count": null,
   "metadata": {},
   "outputs": [],
   "source": [
    "plt.scatter(df1['x'], df1['y'], marker='o', c='blue')\n",
    "plt.scatter(df2['x'], df2['y'], marker='x', c='red')\n",
    "plt.scatter(df3['x'], df3['y'], marker='+', c='green')"
   ]
  },
  {
   "cell_type": "markdown",
   "metadata": {},
   "source": [
    "We're almost there! Now, let's use the trained Naive Bayes classifier to predict, for all points in cloud 3, which of the two original classes it is most likely to adhere to:"
   ]
  },
  {
   "cell_type": "code",
   "execution_count": null,
   "metadata": {},
   "outputs": [],
   "source": [
    "label_pred = gnb.predict(df3[['x','y']])\n",
    "label_pred"
   ]
  },
  {
   "cell_type": "markdown",
   "metadata": {},
   "source": [
    "Finally, we plot all points that belong to cloud one with light blue crosses, and those that belong to cloud2 with light red crosses."
   ]
  },
  {
   "cell_type": "code",
   "execution_count": null,
   "metadata": {},
   "outputs": [],
   "source": [
    "pred_cloud1 = df3.values[label_pred=='cloud1',:] #advanced array slicing, will be covered next week\n",
    "pred_cloud2 = df3.values[label_pred=='cloud2',:] \n",
    "\n",
    "plt.scatter(df1['x'], df1['y'], marker='o', c='blue')\n",
    "plt.scatter(df2['x'], df2['y'], marker='x', c='red')\n",
    "\n",
    "plt.scatter(pred_cloud1[:,0], pred_cloud1[:,1], marker='+', c='lightblue')\n",
    "plt.scatter(pred_cloud2[:,0], pred_cloud2[:,1], marker='+', c='pink')\n"
   ]
  },
  {
   "cell_type": "markdown",
   "metadata": {},
   "source": [
    "**Task (advanced):** change the distance, shape, and overlap of the point clouds by modifying the mean and the variance of the underlying normal distributions. How are the new points classified? What do you observe?"
   ]
  },
  {
   "cell_type": "markdown",
   "metadata": {},
   "source": [
    "## 6 - Conclusion\n",
    "\n",
    "That's it! In this notebook you have taken a tour around the most important data science tools in Python. \n",
    "\n",
    "### 6.1 Check your learning!\n",
    "After having completed this session, you should:\n",
    "1. Be familiar with running and operating Jupyter notebooks. \n",
    "2. have an understanding what numpy, matplotlib, pandas, and scikit-learn are doing. \n",
    "\n",
    "Next week we'll dive deep into Principal component analysis.\n",
    "\n",
    "\n"
   ]
  },
  {
   "cell_type": "markdown",
   "metadata": {},
   "source": [
    "# Submission Instructions\n",
    "\n",
    "Before submitting this via canvas please go to kernel -> 'Restart&Run All'. Please check afterwards if this introduced any issues, then you should fix them. Your notebook should, in the end always represent working code written in a linear way, one cell after the other."
   ]
  },
  {
   "cell_type": "markdown",
   "metadata": {},
   "source": [
    "**Do not touch the cells below!**"
   ]
  },
  {
   "cell_type": "code",
   "execution_count": 15,
   "metadata": {},
   "outputs": [
    {
     "ename": "FileNotFoundError",
     "evalue": "No such file or directory: ''",
     "output_type": "error",
     "traceback": [
      "\u001b[1;31m---------------------------------------------------------------------------\u001b[0m",
      "\u001b[1;31mTypeError\u001b[0m                                 Traceback (most recent call last)",
      "\u001b[1;32mP:\\Installs\\Anaconda\\envs\\test\\lib\\site-packages\\IPython\\core\\display.py\u001b[0m in \u001b[0;36m_data_and_metadata\u001b[1;34m(self, always_both)\u001b[0m\n\u001b[0;32m   1299\u001b[0m         \u001b[1;32mtry\u001b[0m\u001b[1;33m:\u001b[0m\u001b[1;33m\u001b[0m\u001b[1;33m\u001b[0m\u001b[0m\n\u001b[1;32m-> 1300\u001b[1;33m             \u001b[0mb64_data\u001b[0m \u001b[1;33m=\u001b[0m \u001b[0mb2a_base64\u001b[0m\u001b[1;33m(\u001b[0m\u001b[0mself\u001b[0m\u001b[1;33m.\u001b[0m\u001b[0mdata\u001b[0m\u001b[1;33m)\u001b[0m\u001b[1;33m.\u001b[0m\u001b[0mdecode\u001b[0m\u001b[1;33m(\u001b[0m\u001b[1;34m'ascii'\u001b[0m\u001b[1;33m)\u001b[0m\u001b[1;33m\u001b[0m\u001b[1;33m\u001b[0m\u001b[0m\n\u001b[0m\u001b[0;32m   1301\u001b[0m         \u001b[1;32mexcept\u001b[0m \u001b[0mTypeError\u001b[0m\u001b[1;33m:\u001b[0m\u001b[1;33m\u001b[0m\u001b[1;33m\u001b[0m\u001b[0m\n",
      "\u001b[1;31mTypeError\u001b[0m: a bytes-like object is required, not 'str'",
      "\nDuring handling of the above exception, another exception occurred:\n",
      "\u001b[1;31mFileNotFoundError\u001b[0m                         Traceback (most recent call last)",
      "\u001b[1;32mP:\\Installs\\Anaconda\\envs\\test\\lib\\site-packages\\IPython\\core\\formatters.py\u001b[0m in \u001b[0;36m__call__\u001b[1;34m(self, obj, include, exclude)\u001b[0m\n\u001b[0;32m    968\u001b[0m \u001b[1;33m\u001b[0m\u001b[0m\n\u001b[0;32m    969\u001b[0m             \u001b[1;32mif\u001b[0m \u001b[0mmethod\u001b[0m \u001b[1;32mis\u001b[0m \u001b[1;32mnot\u001b[0m \u001b[1;32mNone\u001b[0m\u001b[1;33m:\u001b[0m\u001b[1;33m\u001b[0m\u001b[1;33m\u001b[0m\u001b[0m\n\u001b[1;32m--> 970\u001b[1;33m                 \u001b[1;32mreturn\u001b[0m \u001b[0mmethod\u001b[0m\u001b[1;33m(\u001b[0m\u001b[0minclude\u001b[0m\u001b[1;33m=\u001b[0m\u001b[0minclude\u001b[0m\u001b[1;33m,\u001b[0m \u001b[0mexclude\u001b[0m\u001b[1;33m=\u001b[0m\u001b[0mexclude\u001b[0m\u001b[1;33m)\u001b[0m\u001b[1;33m\u001b[0m\u001b[1;33m\u001b[0m\u001b[0m\n\u001b[0m\u001b[0;32m    971\u001b[0m             \u001b[1;32mreturn\u001b[0m \u001b[1;32mNone\u001b[0m\u001b[1;33m\u001b[0m\u001b[1;33m\u001b[0m\u001b[0m\n\u001b[0;32m    972\u001b[0m         \u001b[1;32melse\u001b[0m\u001b[1;33m:\u001b[0m\u001b[1;33m\u001b[0m\u001b[1;33m\u001b[0m\u001b[0m\n",
      "\u001b[1;32mP:\\Installs\\Anaconda\\envs\\test\\lib\\site-packages\\IPython\\core\\display.py\u001b[0m in \u001b[0;36m_repr_mimebundle_\u001b[1;34m(self, include, exclude)\u001b[0m\n\u001b[0;32m   1288\u001b[0m         \u001b[1;32mif\u001b[0m \u001b[0mself\u001b[0m\u001b[1;33m.\u001b[0m\u001b[0membed\u001b[0m\u001b[1;33m:\u001b[0m\u001b[1;33m\u001b[0m\u001b[1;33m\u001b[0m\u001b[0m\n\u001b[0;32m   1289\u001b[0m             \u001b[0mmimetype\u001b[0m \u001b[1;33m=\u001b[0m \u001b[0mself\u001b[0m\u001b[1;33m.\u001b[0m\u001b[0m_mimetype\u001b[0m\u001b[1;33m\u001b[0m\u001b[1;33m\u001b[0m\u001b[0m\n\u001b[1;32m-> 1290\u001b[1;33m             \u001b[0mdata\u001b[0m\u001b[1;33m,\u001b[0m \u001b[0mmetadata\u001b[0m \u001b[1;33m=\u001b[0m \u001b[0mself\u001b[0m\u001b[1;33m.\u001b[0m\u001b[0m_data_and_metadata\u001b[0m\u001b[1;33m(\u001b[0m\u001b[0malways_both\u001b[0m\u001b[1;33m=\u001b[0m\u001b[1;32mTrue\u001b[0m\u001b[1;33m)\u001b[0m\u001b[1;33m\u001b[0m\u001b[1;33m\u001b[0m\u001b[0m\n\u001b[0m\u001b[0;32m   1291\u001b[0m             \u001b[1;32mif\u001b[0m \u001b[0mmetadata\u001b[0m\u001b[1;33m:\u001b[0m\u001b[1;33m\u001b[0m\u001b[1;33m\u001b[0m\u001b[0m\n\u001b[0;32m   1292\u001b[0m                 \u001b[0mmetadata\u001b[0m \u001b[1;33m=\u001b[0m \u001b[1;33m{\u001b[0m\u001b[0mmimetype\u001b[0m\u001b[1;33m:\u001b[0m \u001b[0mmetadata\u001b[0m\u001b[1;33m}\u001b[0m\u001b[1;33m\u001b[0m\u001b[1;33m\u001b[0m\u001b[0m\n",
      "\u001b[1;32mP:\\Installs\\Anaconda\\envs\\test\\lib\\site-packages\\IPython\\core\\display.py\u001b[0m in \u001b[0;36m_data_and_metadata\u001b[1;34m(self, always_both)\u001b[0m\n\u001b[0;32m   1300\u001b[0m             \u001b[0mb64_data\u001b[0m \u001b[1;33m=\u001b[0m \u001b[0mb2a_base64\u001b[0m\u001b[1;33m(\u001b[0m\u001b[0mself\u001b[0m\u001b[1;33m.\u001b[0m\u001b[0mdata\u001b[0m\u001b[1;33m)\u001b[0m\u001b[1;33m.\u001b[0m\u001b[0mdecode\u001b[0m\u001b[1;33m(\u001b[0m\u001b[1;34m'ascii'\u001b[0m\u001b[1;33m)\u001b[0m\u001b[1;33m\u001b[0m\u001b[1;33m\u001b[0m\u001b[0m\n\u001b[0;32m   1301\u001b[0m         \u001b[1;32mexcept\u001b[0m \u001b[0mTypeError\u001b[0m\u001b[1;33m:\u001b[0m\u001b[1;33m\u001b[0m\u001b[1;33m\u001b[0m\u001b[0m\n\u001b[1;32m-> 1302\u001b[1;33m             raise FileNotFoundError(\n\u001b[0m\u001b[0;32m   1303\u001b[0m                 \"No such file or directory: '%s'\" % (self.data))\n\u001b[0;32m   1304\u001b[0m         \u001b[0mmd\u001b[0m \u001b[1;33m=\u001b[0m \u001b[1;33m{\u001b[0m\u001b[1;33m}\u001b[0m\u001b[1;33m\u001b[0m\u001b[1;33m\u001b[0m\u001b[0m\n",
      "\u001b[1;31mFileNotFoundError\u001b[0m: No such file or directory: ''"
     ]
    },
    {
     "ename": "FileNotFoundError",
     "evalue": "No such file or directory: ''",
     "output_type": "error",
     "traceback": [
      "\u001b[1;31m---------------------------------------------------------------------------\u001b[0m",
      "\u001b[1;31mTypeError\u001b[0m                                 Traceback (most recent call last)",
      "\u001b[1;32mP:\\Installs\\Anaconda\\envs\\test\\lib\\site-packages\\IPython\\core\\display.py\u001b[0m in \u001b[0;36m_data_and_metadata\u001b[1;34m(self, always_both)\u001b[0m\n\u001b[0;32m   1299\u001b[0m         \u001b[1;32mtry\u001b[0m\u001b[1;33m:\u001b[0m\u001b[1;33m\u001b[0m\u001b[1;33m\u001b[0m\u001b[0m\n\u001b[1;32m-> 1300\u001b[1;33m             \u001b[0mb64_data\u001b[0m \u001b[1;33m=\u001b[0m \u001b[0mb2a_base64\u001b[0m\u001b[1;33m(\u001b[0m\u001b[0mself\u001b[0m\u001b[1;33m.\u001b[0m\u001b[0mdata\u001b[0m\u001b[1;33m)\u001b[0m\u001b[1;33m.\u001b[0m\u001b[0mdecode\u001b[0m\u001b[1;33m(\u001b[0m\u001b[1;34m'ascii'\u001b[0m\u001b[1;33m)\u001b[0m\u001b[1;33m\u001b[0m\u001b[1;33m\u001b[0m\u001b[0m\n\u001b[0m\u001b[0;32m   1301\u001b[0m         \u001b[1;32mexcept\u001b[0m \u001b[0mTypeError\u001b[0m\u001b[1;33m:\u001b[0m\u001b[1;33m\u001b[0m\u001b[1;33m\u001b[0m\u001b[0m\n",
      "\u001b[1;31mTypeError\u001b[0m: a bytes-like object is required, not 'str'",
      "\nDuring handling of the above exception, another exception occurred:\n",
      "\u001b[1;31mFileNotFoundError\u001b[0m                         Traceback (most recent call last)",
      "\u001b[1;32mP:\\Installs\\Anaconda\\envs\\test\\lib\\site-packages\\IPython\\core\\formatters.py\u001b[0m in \u001b[0;36m__call__\u001b[1;34m(self, obj)\u001b[0m\n\u001b[0;32m    343\u001b[0m             \u001b[0mmethod\u001b[0m \u001b[1;33m=\u001b[0m \u001b[0mget_real_method\u001b[0m\u001b[1;33m(\u001b[0m\u001b[0mobj\u001b[0m\u001b[1;33m,\u001b[0m \u001b[0mself\u001b[0m\u001b[1;33m.\u001b[0m\u001b[0mprint_method\u001b[0m\u001b[1;33m)\u001b[0m\u001b[1;33m\u001b[0m\u001b[1;33m\u001b[0m\u001b[0m\n\u001b[0;32m    344\u001b[0m             \u001b[1;32mif\u001b[0m \u001b[0mmethod\u001b[0m \u001b[1;32mis\u001b[0m \u001b[1;32mnot\u001b[0m \u001b[1;32mNone\u001b[0m\u001b[1;33m:\u001b[0m\u001b[1;33m\u001b[0m\u001b[1;33m\u001b[0m\u001b[0m\n\u001b[1;32m--> 345\u001b[1;33m                 \u001b[1;32mreturn\u001b[0m \u001b[0mmethod\u001b[0m\u001b[1;33m(\u001b[0m\u001b[1;33m)\u001b[0m\u001b[1;33m\u001b[0m\u001b[1;33m\u001b[0m\u001b[0m\n\u001b[0m\u001b[0;32m    346\u001b[0m             \u001b[1;32mreturn\u001b[0m \u001b[1;32mNone\u001b[0m\u001b[1;33m\u001b[0m\u001b[1;33m\u001b[0m\u001b[0m\n\u001b[0;32m    347\u001b[0m         \u001b[1;32melse\u001b[0m\u001b[1;33m:\u001b[0m\u001b[1;33m\u001b[0m\u001b[1;33m\u001b[0m\u001b[0m\n",
      "\u001b[1;32mP:\\Installs\\Anaconda\\envs\\test\\lib\\site-packages\\IPython\\core\\display.py\u001b[0m in \u001b[0;36m_repr_png_\u001b[1;34m(self)\u001b[0m\n\u001b[0;32m   1318\u001b[0m     \u001b[1;32mdef\u001b[0m \u001b[0m_repr_png_\u001b[0m\u001b[1;33m(\u001b[0m\u001b[0mself\u001b[0m\u001b[1;33m)\u001b[0m\u001b[1;33m:\u001b[0m\u001b[1;33m\u001b[0m\u001b[1;33m\u001b[0m\u001b[0m\n\u001b[0;32m   1319\u001b[0m         \u001b[1;32mif\u001b[0m \u001b[0mself\u001b[0m\u001b[1;33m.\u001b[0m\u001b[0membed\u001b[0m \u001b[1;32mand\u001b[0m \u001b[0mself\u001b[0m\u001b[1;33m.\u001b[0m\u001b[0mformat\u001b[0m \u001b[1;33m==\u001b[0m \u001b[0mself\u001b[0m\u001b[1;33m.\u001b[0m\u001b[0m_FMT_PNG\u001b[0m\u001b[1;33m:\u001b[0m\u001b[1;33m\u001b[0m\u001b[1;33m\u001b[0m\u001b[0m\n\u001b[1;32m-> 1320\u001b[1;33m             \u001b[1;32mreturn\u001b[0m \u001b[0mself\u001b[0m\u001b[1;33m.\u001b[0m\u001b[0m_data_and_metadata\u001b[0m\u001b[1;33m(\u001b[0m\u001b[1;33m)\u001b[0m\u001b[1;33m\u001b[0m\u001b[1;33m\u001b[0m\u001b[0m\n\u001b[0m\u001b[0;32m   1321\u001b[0m \u001b[1;33m\u001b[0m\u001b[0m\n\u001b[0;32m   1322\u001b[0m     \u001b[1;32mdef\u001b[0m \u001b[0m_repr_jpeg_\u001b[0m\u001b[1;33m(\u001b[0m\u001b[0mself\u001b[0m\u001b[1;33m)\u001b[0m\u001b[1;33m:\u001b[0m\u001b[1;33m\u001b[0m\u001b[1;33m\u001b[0m\u001b[0m\n",
      "\u001b[1;32mP:\\Installs\\Anaconda\\envs\\test\\lib\\site-packages\\IPython\\core\\display.py\u001b[0m in \u001b[0;36m_data_and_metadata\u001b[1;34m(self, always_both)\u001b[0m\n\u001b[0;32m   1300\u001b[0m             \u001b[0mb64_data\u001b[0m \u001b[1;33m=\u001b[0m \u001b[0mb2a_base64\u001b[0m\u001b[1;33m(\u001b[0m\u001b[0mself\u001b[0m\u001b[1;33m.\u001b[0m\u001b[0mdata\u001b[0m\u001b[1;33m)\u001b[0m\u001b[1;33m.\u001b[0m\u001b[0mdecode\u001b[0m\u001b[1;33m(\u001b[0m\u001b[1;34m'ascii'\u001b[0m\u001b[1;33m)\u001b[0m\u001b[1;33m\u001b[0m\u001b[1;33m\u001b[0m\u001b[0m\n\u001b[0;32m   1301\u001b[0m         \u001b[1;32mexcept\u001b[0m \u001b[0mTypeError\u001b[0m\u001b[1;33m:\u001b[0m\u001b[1;33m\u001b[0m\u001b[1;33m\u001b[0m\u001b[0m\n\u001b[1;32m-> 1302\u001b[1;33m             raise FileNotFoundError(\n\u001b[0m\u001b[0;32m   1303\u001b[0m                 \"No such file or directory: '%s'\" % (self.data))\n\u001b[0;32m   1304\u001b[0m         \u001b[0mmd\u001b[0m \u001b[1;33m=\u001b[0m \u001b[1;33m{\u001b[0m\u001b[1;33m}\u001b[0m\u001b[1;33m\u001b[0m\u001b[1;33m\u001b[0m\u001b[0m\n",
      "\u001b[1;31mFileNotFoundError\u001b[0m: No such file or directory: ''"
     ]
    },
    {
     "data": {
      "text/plain": [
       "<IPython.core.display.Image object>"
      ]
     },
     "execution_count": 15,
     "metadata": {},
     "output_type": "execute_result"
    }
   ],
   "source": [
    "from IPython import display\n",
    "path = \"\"\n",
    "if a.shape != (3,3):\n",
    "    path= \"https://www.iconsdb.com/icons/preview/orange/checkmark-xxl.png\"\n",
    "if a.shape == (3,4):\n",
    "    path= \"https://www.iconsdb.com/icons/preview/green/checkmark-xxl.png\"\n",
    "    \n",
    "display.Image(path)"
   ]
  },
  {
   "cell_type": "code",
   "execution_count": null,
   "metadata": {},
   "outputs": [],
   "source": [
    "my_cloud3\n",
    "my_cloud4    \n",
    "display.Image(path)"
   ]
  },
  {
   "cell_type": "code",
   "execution_count": null,
   "metadata": {},
   "outputs": [],
   "source": []
  }
 ],
 "metadata": {
  "kernelspec": {
   "display_name": "Python 3 (ipykernel)",
   "language": "python",
   "name": "python3"
  },
  "language_info": {
   "codemirror_mode": {
    "name": "ipython",
    "version": 3
   },
   "file_extension": ".py",
   "mimetype": "text/x-python",
   "name": "python",
   "nbconvert_exporter": "python",
   "pygments_lexer": "ipython3",
   "version": "3.8.12"
  }
 },
 "nbformat": 4,
 "nbformat_minor": 2
}
