{
 "cells": [
  {
   "cell_type": "markdown",
   "metadata": {},
   "source": [
    "# Unit 2 - Applied PCA\n",
    "In this practical you will learn:\n",
    "* Python idioms for \n",
    " * plotting with matplotlib,\n",
    " * array addressing with numpy,\n",
    "* The general scikit-learn workflow\n",
    "* Performing PCA with scikit-learn\n",
    "* Essential Data analysis with PCA and scikit-learn"
   ]
  },
  {
   "cell_type": "markdown",
   "metadata": {},
   "source": [
    "# 1. Python idioms used in this practical\n",
    "We will start with a refresher of Python idioms that we use in this practical. You can skip this if you feel you are already deeply familiar with the concepts presented. Feel free to come back to this section in case any code is unclear. "
   ]
  },
  {
   "cell_type": "markdown",
   "metadata": {},
   "source": [
    "## 1.1 matplotlib idioms"
   ]
  },
  {
   "cell_type": "markdown",
   "metadata": {},
   "source": [
    "### plotting with ax.plot(...)\n",
    "Internally, matplotlib uses an `Axes` object to plot the data in. All plotting can be done via methods of this object. to This object has all the methods one needs for plotting. In addition, it allows to adjust the plot appearance, add labels, etc.\n",
    "\n",
    "Therefore it is often practical to plot via the `Axes` object rather than using e.g. `plt.plot(...)`"
   ]
  },
  {
   "cell_type": "code",
   "execution_count": 373,
   "metadata": {},
   "outputs": [
    {
     "data": {
      "image/png": "[encoded data removed]",
      "text/plain": [
       "<Figure size 432x288 with 1 Axes>"
      ]
     },
     "metadata": {
      "needs_background": "light"
     },
     "output_type": "display_data"
    }
   ],
   "source": [
    "import matplotlib.pyplot as plt\n",
    "%matplotlib inline\n",
    "\n",
    "ax = plt.gca() #obtains the Axes object\n",
    "ax.plot([2,5,4,6,3,5,2])\n",
    "\n",
    "#decorate the plot; set axis labels \n",
    "t = ax.set_xlabel('the x variable')\n",
    "t = ax.set_ylabel('the y variable')\n",
    "\n",
    "#manually set ticks on the y-axis\n",
    "t = ax.set_yticks([2,4,6])\n",
    "\n",
    "# manually set labels\n",
    "t =  ax.set_yticklabels(['two', 'four', 'six'])"
   ]
  },
  {
   "cell_type": "markdown",
   "metadata": {},
   "source": [
    "Matplotlib can display square matrices as images via the `imshow` function. A `colorbar` alongside the figure acts as a kind of 'legend' that allows to guess numerical values from the colours. "
   ]
  },
  {
   "cell_type": "code",
   "execution_count": 374,
   "metadata": {},
   "outputs": [
    {
     "data": {
      "image/png": "[encoded data removed]",
      "text/plain": [
       "<Figure size 432x288 with 2 Axes>"
      ]
     },
     "metadata": {
      "needs_background": "light"
     },
     "output_type": "display_data"
    }
   ],
   "source": [
    "import numpy as np\n",
    "ax = plt.gca()\n",
    "matrix = np.array([[3,2,3],\n",
    "                   [4,6,3],\n",
    "                   [1,0,1]])\n",
    "img = ax.imshow(matrix)\n",
    "c = plt.colorbar(img) #note that this needs to be done via `plt`, not `ax`"
   ]
  },
  {
   "cell_type": "markdown",
   "metadata": {},
   "source": [
    "## 1.2 numpy idioms\n",
    "This is essential numpy you will need. Let's use a [Pascal matrix](https://en.wikipedia.org/wiki/Pascal_matrix) as an example: "
   ]
  },
  {
   "cell_type": "code",
   "execution_count": 375,
   "metadata": {},
   "outputs": [
    {
     "data": {
      "text/plain": [
       "array([[ 1,  1,  1,  1,  1],\n",
       "       [ 1,  2,  3,  4,  5],\n",
       "       [ 1,  3,  6, 10, 15],\n",
       "       [ 1,  4, 10, 20, 35],\n",
       "       [ 1,  5, 15, 35, 70]], dtype=uint64)"
      ]
     },
     "execution_count": 375,
     "metadata": {},
     "output_type": "execute_result"
    }
   ],
   "source": [
    "from scipy.linalg import pascal\n",
    "\n",
    "#make pascal matrix, 5 rows, 5 columns\n",
    "p = pascal(5)\n",
    "p"
   ]
  },
  {
   "cell_type": "markdown",
   "metadata": {},
   "source": [
    "### mean, standard deviation, variance in arrays and matrices\n",
    "You can compute mean, standard deviation and variance with numpy via `mean`, `std` and `var`. Normally these 'flatten' the array and return only one number:"
   ]
  },
  {
   "cell_type": "code",
   "execution_count": 376,
   "metadata": {},
   "outputs": [
    {
     "data": {
      "text/plain": [
       "10.04"
      ]
     },
     "execution_count": 376,
     "metadata": {},
     "output_type": "execute_result"
    }
   ],
   "source": [
    "np.mean(p)"
   ]
  },
  {
   "cell_type": "markdown",
   "metadata": {},
   "source": [
    "But you can compute them separately for each column..."
   ]
  },
  {
   "cell_type": "code",
   "execution_count": 377,
   "metadata": {},
   "outputs": [
    {
     "data": {
      "text/plain": [
       "array([ 1. ,  3. ,  7. , 14. , 25.2])"
      ]
     },
     "execution_count": 377,
     "metadata": {},
     "output_type": "execute_result"
    }
   ],
   "source": [
    "np.mean(p, axis=0)"
   ]
  },
  {
   "cell_type": "markdown",
   "metadata": {},
   "source": [
    "... or for each row:"
   ]
  },
  {
   "cell_type": "code",
   "execution_count": 378,
   "metadata": {},
   "outputs": [
    {
     "data": {
      "text/plain": [
       "array([ 1. ,  3. ,  7. , 14. , 25.2])"
      ]
     },
     "execution_count": 378,
     "metadata": {},
     "output_type": "execute_result"
    }
   ],
   "source": [
    "np.mean(p, axis=1)"
   ]
  },
  {
   "cell_type": "markdown",
   "metadata": {},
   "source": [
    "We mostly compute them separately for each column, as we are interested in mean and variance of features."
   ]
  },
  {
   "cell_type": "code",
   "execution_count": 379,
   "metadata": {},
   "outputs": [
    {
     "data": {
      "text/plain": [
       "array([ 0.        ,  1.41421356,  5.01996016, 12.34503949, 25.30138336])"
      ]
     },
     "execution_count": 379,
     "metadata": {},
     "output_type": "execute_result"
    }
   ],
   "source": [
    "np.std(p, axis=0)"
   ]
  },
  {
   "cell_type": "code",
   "execution_count": 380,
   "metadata": {},
   "outputs": [
    {
     "data": {
      "text/plain": [
       "array([  0.  ,   2.  ,  25.2 , 152.4 , 640.16])"
      ]
     },
     "execution_count": 380,
     "metadata": {},
     "output_type": "execute_result"
    }
   ],
   "source": [
    "np.var(p, axis=0)"
   ]
  },
  {
   "cell_type": "markdown",
   "metadata": {},
   "source": [
    "### Slicing via the `:` operator \n",
    "Quite often we will only want to use parts of an array. This is accomplished by 'slicing' via the `:` operator. By itself, it selects all values in one dimension:"
   ]
  },
  {
   "cell_type": "code",
   "execution_count": 381,
   "metadata": {},
   "outputs": [
    {
     "data": {
      "text/plain": [
       "array([ 1,  3,  6, 10, 15], dtype=uint64)"
      ]
     },
     "execution_count": 381,
     "metadata": {},
     "output_type": "execute_result"
    }
   ],
   "source": [
    "p[2,:] # all columns in row two. counting starts at zero!"
   ]
  },
  {
   "cell_type": "code",
   "execution_count": 382,
   "metadata": {},
   "outputs": [
    {
     "data": {
      "text/plain": [
       "array([1, 2, 3, 4, 5], dtype=uint64)"
      ]
     },
     "execution_count": 382,
     "metadata": {},
     "output_type": "execute_result"
    }
   ],
   "source": [
    "p[:,1] # all rows in column 1. "
   ]
  },
  {
   "cell_type": "markdown",
   "metadata": {},
   "source": [
    "Notice that a column is selected, but the resulting array is printed as a row!"
   ]
  },
  {
   "cell_type": "markdown",
   "metadata": {},
   "source": [
    "The `:` operator can be used to select ranges of data:"
   ]
  },
  {
   "cell_type": "code",
   "execution_count": 383,
   "metadata": {},
   "outputs": [
    {
     "data": {
      "text/plain": [
       "array([[10, 15],\n",
       "       [20, 35]], dtype=uint64)"
      ]
     },
     "execution_count": 383,
     "metadata": {},
     "output_type": "execute_result"
    }
   ],
   "source": [
    "p[2:4, 3:5] # data in rows 2 and 3, and columns 3 and 4 "
   ]
  },
  {
   "cell_type": "markdown",
   "metadata": {},
   "source": [
    "### array indexing with booleans\n",
    "You can apply a criterion to a range of values and use the resulting boolean array to address the columns and rows. \n",
    "\n",
    "For example, lets check which columns have variance larger than 8.0:"
   ]
  },
  {
   "cell_type": "code",
   "execution_count": 384,
   "metadata": {},
   "outputs": [
    {
     "data": {
      "text/plain": [
       "array([False, False,  True,  True,  True])"
      ]
     },
     "execution_count": 384,
     "metadata": {},
     "output_type": "execute_result"
    }
   ],
   "source": [
    "cols = np.var(p, axis=0) > 8.0\n",
    "cols"
   ]
  },
  {
   "cell_type": "markdown",
   "metadata": {},
   "source": [
    "We can use this to select those columns from the array:"
   ]
  },
  {
   "cell_type": "code",
   "execution_count": 385,
   "metadata": {},
   "outputs": [
    {
     "data": {
      "text/plain": [
       "array([[ 1,  1,  1],\n",
       "       [ 3,  4,  5],\n",
       "       [ 6, 10, 15],\n",
       "       [10, 20, 35],\n",
       "       [15, 35, 70]], dtype=uint64)"
      ]
     },
     "execution_count": 385,
     "metadata": {},
     "output_type": "execute_result"
    }
   ],
   "source": [
    "p[:, cols]"
   ]
  },
  {
   "cell_type": "markdown",
   "metadata": {},
   "source": [
    "Of course array contents can be addressed with numerical indices, too:"
   ]
  },
  {
   "cell_type": "code",
   "execution_count": 386,
   "metadata": {},
   "outputs": [
    {
     "data": {
      "text/plain": [
       "array([[ 1,  1,  1],\n",
       "       [ 3,  4,  5],\n",
       "       [ 6, 10, 15],\n",
       "       [10, 20, 35],\n",
       "       [15, 35, 70]], dtype=uint64)"
      ]
     },
     "execution_count": 386,
     "metadata": {},
     "output_type": "execute_result"
    }
   ],
   "source": [
    "p[:, [2,3,4]] #selects columns 2,3,4 "
   ]
  },
  {
   "cell_type": "markdown",
   "metadata": {},
   "source": [
    "### boolean arithmetics for indexing\n",
    "Boolean index arrays can be combined using boolean arithmetics. For example, consider the following array:"
   ]
  },
  {
   "cell_type": "code",
   "execution_count": 387,
   "metadata": {},
   "outputs": [],
   "source": [
    "a = np.array([3,7,5,8,6,2,1,9,4,5,7,8,2,3,6,4,7,8,3,4,5])"
   ]
  },
  {
   "cell_type": "markdown",
   "metadata": {},
   "source": [
    "Lets place a criterion that values should be greater than 3:"
   ]
  },
  {
   "cell_type": "code",
   "execution_count": 388,
   "metadata": {},
   "outputs": [
    {
     "data": {
      "text/plain": [
       "array([False,  True,  True,  True,  True, False, False,  True,  True,\n",
       "        True,  True,  True, False, False,  True,  True,  True,  True,\n",
       "       False,  True,  True])"
      ]
     },
     "execution_count": 388,
     "metadata": {},
     "output_type": "execute_result"
    }
   ],
   "source": [
    "gt3 = a > 3\n",
    "gt3"
   ]
  },
  {
   "cell_type": "markdown",
   "metadata": {},
   "source": [
    "In addition, values should be smaller than 8:"
   ]
  },
  {
   "cell_type": "code",
   "execution_count": 389,
   "metadata": {},
   "outputs": [
    {
     "data": {
      "text/plain": [
       "array([ True,  True,  True, False,  True,  True,  True, False,  True,\n",
       "        True,  True, False,  True,  True,  True,  True,  True, False,\n",
       "        True,  True,  True])"
      ]
     },
     "execution_count": 389,
     "metadata": {},
     "output_type": "execute_result"
    }
   ],
   "source": [
    "lt8 = a < 8\n",
    "lt8"
   ]
  },
  {
   "cell_type": "markdown",
   "metadata": {},
   "source": [
    "Finally, let's combine those two criteria using the boolean 'and':"
   ]
  },
  {
   "cell_type": "code",
   "execution_count": 390,
   "metadata": {},
   "outputs": [
    {
     "data": {
      "text/plain": [
       "array([False,  True,  True, False,  True, False, False, False,  True,\n",
       "        True,  True, False, False, False,  True,  True,  True, False,\n",
       "       False,  True,  True])"
      ]
     },
     "execution_count": 390,
     "metadata": {},
     "output_type": "execute_result"
    }
   ],
   "source": [
    "crit = np.logical_and(lt8,gt3)\n",
    "crit"
   ]
  },
  {
   "cell_type": "markdown",
   "metadata": {},
   "source": [
    "... and we can finally select those values from the array which are greater than 3 and less than 8:"
   ]
  },
  {
   "cell_type": "code",
   "execution_count": 391,
   "metadata": {},
   "outputs": [
    {
     "data": {
      "text/plain": [
       "array([7, 5, 6, 4, 5, 7, 6, 4, 7, 4, 5])"
      ]
     },
     "execution_count": 391,
     "metadata": {},
     "output_type": "execute_result"
    }
   ],
   "source": [
    "a[crit]"
   ]
  },
  {
   "cell_type": "markdown",
   "metadata": {},
   "source": [
    "## 1.3 sklearn general workflow\n",
    "Scikit-learn provides machine learning algorithms, called *estimators*, and transformers and preprocessors (like to normalise data.  All of these support a `fit` and a `transform` method. \n",
    "* `fit` 'trains' the machine learning model, or extracts the parameters for the preprocessor.\n",
    "* `transform` applies the learnt model or parameterised preprocessing to the data.\n",
    "    \n",
    "For example, the `StandardScaler` that scales a features matrix to zero mean and unit variance.\n",
    "\n",
    "Let's look at the pascal matrix as an example again, this time using the \"upper triangular' form:"
   ]
  },
  {
   "cell_type": "code",
   "execution_count": 392,
   "metadata": {},
   "outputs": [
    {
     "name": "stdout",
     "output_type": "stream",
     "text": [
      "before scaling:\n",
      "[[1. 1. 1.]\n",
      " [0. 1. 2.]\n",
      " [0. 0. 1.]]\n",
      "per-column mean:\n",
      "[0.33333333 0.66666667 1.33333333]\n",
      "per-column variance:\n",
      "[0.22222222 0.22222222 0.22222222]\n"
     ]
    }
   ],
   "source": [
    "p = pascal(3, 'upper', exact=False) \n",
    "#exact=False creates a floating point instead of an int array\n",
    "#avoids an error message further down.\n",
    "\n",
    "print('before scaling:')\n",
    "print(p)\n",
    "print('per-column mean:')\n",
    "print('{}'.format(np.mean(p, axis=0)))\n",
    "print('per-column variance:')\n",
    "print('{}'.format(np.var(p, axis=0)))"
   ]
  },
  {
   "cell_type": "markdown",
   "metadata": {},
   "source": [
    "Now we use `StandardScaler` to scale the matrix:"
   ]
  },
  {
   "cell_type": "code",
   "execution_count": 393,
   "metadata": {},
   "outputs": [
    {
     "name": "stdout",
     "output_type": "stream",
     "text": [
      "\n",
      "after scaling:\n",
      "[[ 1.41421356  0.70710678 -0.70710678]\n",
      " [-0.70710678  0.70710678  1.41421356]\n",
      " [-0.70710678 -1.41421356 -0.70710678]]\n",
      "per-column mean:\n",
      "[7.40148683e-17 7.40148683e-17 1.48029737e-16]\n",
      "per-column variance:\n",
      "[1. 1. 1.]\n"
     ]
    }
   ],
   "source": [
    "from sklearn import preprocessing as pp\n",
    "# sklearn standard scaler in action\n",
    "scaler = pp.StandardScaler()\n",
    "scaler.fit(p) # 'learns' mean and variance of a\n",
    "p_dash = scaler.transform(p) # 'transforms' a\n",
    "\n",
    "\n",
    "print()\n",
    "print('after scaling:')\n",
    "print(p_dash)\n",
    "print('per-column mean:')\n",
    "print('{}'.format(np.mean(p_dash, axis=0)))\n",
    "print('per-column variance:')\n",
    "print('{}'.format(np.var(p_dash, axis=0)))"
   ]
  },
  {
   "cell_type": "markdown",
   "metadata": {},
   "source": [
    "Note how the normalised mean is vanishingly small. "
   ]
  },
  {
   "cell_type": "markdown",
   "metadata": {},
   "source": [
    "# 2. PCA essentials "
   ]
  },
  {
   "cell_type": "markdown",
   "metadata": {},
   "source": [
    "Let's do a PCA on an anisotropic gaussian blob of data points. \n",
    "\n",
    "First we make the data and plot it. We use the `multivariate_normal` function of nupy that generates a gaussian blob with a given covariance matrix - very convenient!"
   ]
  },
  {
   "cell_type": "code",
   "execution_count": 394,
   "metadata": {},
   "outputs": [
    {
     "data": {
      "image/png": "[encoded data removed]",
      "text/plain": [
       "<Figure size 432x288 with 1 Axes>"
      ]
     },
     "metadata": {
      "needs_background": "light"
     },
     "output_type": "display_data"
    }
   ],
   "source": [
    "design_covmat = np.array([[5.,4.],\n",
    "                          [4.,6.]]) #the covariance matrix\n",
    "center = np.array([1,1.5]) # the center of the blob\n",
    "blob = np.random.multivariate_normal(mean=center, \n",
    "                                     cov=design_covmat, \n",
    "                                     size=100)\n",
    "\n",
    "#plotting\n",
    "ax = plt.gca()\n",
    "ax.scatter(blob[:,0], blob[:,1])\n",
    "ax.axis('scaled')\n",
    "t = ax.set_xlabel('x')\n",
    "t = ax.set_ylabel('y')"
   ]
  },
  {
   "cell_type": "markdown",
   "metadata": {},
   "source": [
    "Next step: do a PCA with scikit-learn."
   ]
  },
  {
   "cell_type": "code",
   "execution_count": 395,
   "metadata": {},
   "outputs": [
    {
     "data": {
      "image/png": "[encoded data removed]",
      "text/plain": [
       "<Figure size 432x288 with 1 Axes>"
      ]
     },
     "metadata": {
      "needs_background": "light"
     },
     "output_type": "display_data"
    }
   ],
   "source": [
    "from sklearn.decomposition import PCA\n",
    "\n",
    "pca = PCA()\n",
    "pca.fit(blob)\n",
    "blob_pca = pca.transform(blob)\n",
    "\n",
    "#plotting\n",
    "ax = plt.gca()\n",
    "\n",
    "ax.scatter(blob_pca[:,0], blob_pca[:,1])\n",
    "ax.axis('scaled')\n",
    "t = ax.set_xlabel('PC 1')\n",
    "t = ax.set_ylabel('PC 2')"
   ]
  },
  {
   "cell_type": "markdown",
   "metadata": {},
   "source": [
    "Notice two things:\n",
    "1. the center of the blob is now at the origin ([0.,0.])\n",
    "2. the first component (i.e. x-axis) is aligned in the direction of highest variance. \n",
    "\n",
    "### Covariance matrix from PCA\n",
    "The PCA implementation in scikit-learn gives us access to the covariance matrix. Let's compare it to the covariance matrix that we used to make the blobs:"
   ]
  },
  {
   "cell_type": "code",
   "execution_count": 396,
   "metadata": {},
   "outputs": [
    {
     "name": "stdout",
     "output_type": "stream",
     "text": [
      "covmat from PCA:\n",
      "[[5.54235509 4.3777814 ]\n",
      " [4.3777814  6.29137778]]\n",
      "\n",
      "design covmat:\n",
      "[[5. 4.]\n",
      " [4. 6.]]\n"
     ]
    }
   ],
   "source": [
    "computed_covmat = pca.get_covariance()\n",
    "print(\"covmat from PCA:\")\n",
    "print(\"{}\".format(computed_covmat))\n",
    "print()\n",
    "print(\"design covmat:\")\n",
    "print(\"{}\".format(design_covmat))\n"
   ]
  },
  {
   "cell_type": "markdown",
   "metadata": {},
   "source": [
    "**Question:**\n",
    "* Are the design and the computed covariance matrices identical? \n",
    "* If not, why? What does it mean for using PCA in applied data analysis?\n",
    "\n",
    "**Task**\n",
    "* Increase the number of points in the blob from 100 to 10000. Repeat the analysis. How large is the difference between the observed and design covariance matrix now? Can you explain the difference to the previous example with the 100 points in the blob?"
   ]
  },
  {
   "cell_type": "markdown",
   "metadata": {},
   "source": [
    "**Task Answers**"
   ]
  },
  {
   "cell_type": "code",
   "execution_count": 397,
   "metadata": {},
   "outputs": [
    {
     "data": {
      "image/png": "[encoded data removed]",
      "text/plain": [
       "<Figure size 432x288 with 1 Axes>"
      ]
     },
     "metadata": {
      "needs_background": "light"
     },
     "output_type": "display_data"
    }
   ],
   "source": [
    "design_covmat = np.array([[5., 4.],\n",
    "                          [4., 6.]])  # the covariance matrix\n",
    "center = np.array([1, 1.5])  # the center of the blob\n",
    "blob = np.random.multivariate_normal(mean=center,\n",
    "                                     cov=design_covmat,\n",
    "                                     size=10000)  # using blob size of 10000\n",
    "\n",
    "#plotting\n",
    "ax = plt.gca()\n",
    "ax.scatter(blob[:, 0], blob[:, 1])\n",
    "ax.axis('scaled')\n",
    "t = ax.set_xlabel('x')\n",
    "t = ax.set_ylabel('y')\n"
   ]
  },
  {
   "cell_type": "markdown",
   "metadata": {},
   "source": []
  },
  {
   "cell_type": "code",
   "execution_count": 398,
   "metadata": {},
   "outputs": [
    {
     "data": {
      "image/png": "[encoded data removed]",
      "text/plain": [
       "<Figure size 432x288 with 1 Axes>"
      ]
     },
     "metadata": {
      "needs_background": "light"
     },
     "output_type": "display_data"
    }
   ],
   "source": [
    "pca = PCA()\n",
    "pca.fit(blob)\n",
    "blob_pca = pca.transform(blob)\n",
    "\n",
    "#plotting\n",
    "ax = plt.gca()\n",
    "ax.scatter(blob_pca[:, 0], blob_pca[:, 1])\n",
    "ax.axis('scaled')\n",
    "t = ax.set_xlabel('PC 1')\n",
    "t = ax.set_ylabel('PC 2')"
   ]
  },
  {
   "cell_type": "code",
   "execution_count": 399,
   "metadata": {},
   "outputs": [
    {
     "name": "stdout",
     "output_type": "stream",
     "text": [
      "covmat from PCA:\n",
      "[[5.0215897  4.05879704]\n",
      " [4.05879704 6.06033808]]\n",
      "\n",
      "design covmat:\n",
      "[[5. 4.]\n",
      " [4. 6.]]\n"
     ]
    }
   ],
   "source": [
    "computed_covmat = pca.get_covariance()\n",
    "print(\"covmat from PCA:\")\n",
    "print(\"{}\".format(computed_covmat))\n",
    "\n",
    "print()\n",
    "print(\"design covmat:\")\n",
    "print(\"{}\".format(design_covmat))\n"
   ]
  },
  {
   "cell_type": "markdown",
   "metadata": {},
   "source": [
    "Doing PCA to 10000 points yeilds better result. Computed cov_mat from PCA is now closer to design_covmat since it had more data to work on.\n"
   ]
  },
  {
   "cell_type": "markdown",
   "metadata": {},
   "source": [
    "## 2.1 PCA on iris\n",
    "\n",
    "We're just warming up so let's reproduce the Iris analysis from the lecture. "
   ]
  },
  {
   "cell_type": "markdown",
   "metadata": {},
   "source": [
    "We start by loading the iris data set, which is conveniently contained in scikit-learn:"
   ]
  },
  {
   "cell_type": "code",
   "execution_count": 400,
   "metadata": {},
   "outputs": [],
   "source": [
    "import sklearn.datasets as data\n",
    "iris = data.load_iris()"
   ]
  },
  {
   "cell_type": "markdown",
   "metadata": {},
   "source": [
    "The result is a data structure, in the form of a dictionary. let's explore it:"
   ]
  },
  {
   "cell_type": "code",
   "execution_count": 401,
   "metadata": {},
   "outputs": [
    {
     "data": {
      "text/plain": [
       "dict_keys(['data', 'target', 'frame', 'target_names', 'DESCR', 'feature_names', 'filename', 'data_module'])"
      ]
     },
     "execution_count": 401,
     "metadata": {},
     "output_type": "execute_result"
    }
   ],
   "source": [
    "iris.keys()"
   ]
  },
  {
   "cell_type": "markdown",
   "metadata": {},
   "source": [
    "The names of the keys are pretty much self-explanatory. Have a look at the `DESCR` key for more information about the data set:"
   ]
  },
  {
   "cell_type": "code",
   "execution_count": 402,
   "metadata": {},
   "outputs": [
    {
     "name": "stdout",
     "output_type": "stream",
     "text": [
      ".. _iris_dataset:\n",
      "\n",
      "Iris plants dataset\n",
      "--------------------\n",
      "\n",
      "**Data Set Characteristics:**\n",
      "\n",
      "    :Number of Instances: 150 (50 in each of three classes)\n",
      "    :Number of Attributes: 4 numeric, predictive attributes and the class\n",
      "    :Attribute Information:\n",
      "        - sepal length in cm\n",
      "        - sepal width in cm\n",
      "        - petal length in cm\n",
      "        - petal width in cm\n",
      "        - class:\n",
      "                - Iris-Setosa\n",
      "                - Iris-Versicolour\n",
      "                - Iris-Virginica\n",
      "                \n",
      "    :Summary Statistics:\n",
      "\n",
      "    ============== ==== ==== ======= ===== ====================\n",
      "                    Min  Max   Mean    SD   Class Correlation\n",
      "    ============== ==== ==== ======= ===== ====================\n",
      "    sepal length:   4.3  7.9   5.84   0.83    0.7826\n",
      "    sepal width:    2.0  4.4   3.05   0.43   -0.4194\n",
      "    petal length:   1.0  6.9   3.76   1.76    0.9490  (high!)\n",
      "    petal width:    0.1  2.5   1.20   0.76    0.9565  (high!)\n",
      "    ============== ==== ==== ======= ===== ====================\n",
      "\n",
      "    :Missing Attribute Values: None\n",
      "    :Class Distribution: 33.3% for each of 3 classes.\n",
      "    :Creator: R.A. Fisher\n",
      "    :Donor: Michael Marshall (MARSHALL%PLU@io.arc.nasa.gov)\n",
      "    :Date: July, 1988\n",
      "\n",
      "The famous Iris database, first used by Sir R.A. Fisher. The dataset is taken\n",
      "from Fisher's paper. Note that it's the same as in R, but not as in the UCI\n",
      "Machine Learning Repository, which has two wrong data points.\n",
      "\n",
      "This is perhaps the best known database to be found in the\n",
      "pattern recognition literature.  Fisher's paper is a classic in the field and\n",
      "is referenced frequently to this day.  (See Duda & Hart, for example.)  The\n",
      "data set contains 3 classes of 50 instances each, where each class refers to a\n",
      "type of iris plant.  One class is linearly separable from the other 2; the\n",
      "latter are NOT linearly separable from each other.\n",
      "\n",
      ".. topic:: References\n",
      "\n",
      "   - Fisher, R.A. \"The use of multiple measurements in taxonomic problems\"\n",
      "     Annual Eugenics, 7, Part II, 179-188 (1936); also in \"Contributions to\n",
      "     Mathematical Statistics\" (John Wiley, NY, 1950).\n",
      "   - Duda, R.O., & Hart, P.E. (1973) Pattern Classification and Scene Analysis.\n",
      "     (Q327.D83) John Wiley & Sons.  ISBN 0-471-22361-1.  See page 218.\n",
      "   - Dasarathy, B.V. (1980) \"Nosing Around the Neighborhood: A New System\n",
      "     Structure and Classification Rule for Recognition in Partially Exposed\n",
      "     Environments\".  IEEE Transactions on Pattern Analysis and Machine\n",
      "     Intelligence, Vol. PAMI-2, No. 1, 67-71.\n",
      "   - Gates, G.W. (1972) \"The Reduced Nearest Neighbor Rule\".  IEEE Transactions\n",
      "     on Information Theory, May 1972, 431-433.\n",
      "   - See also: 1988 MLC Proceedings, 54-64.  Cheeseman et al\"s AUTOCLASS II\n",
      "     conceptual clustering system finds 3 classes in the data.\n",
      "   - Many, many more ...\n"
     ]
    }
   ],
   "source": [
    "print(iris['DESCR'])"
   ]
  },
  {
   "cell_type": "markdown",
   "metadata": {},
   "source": [
    "We can construct a pandas data frame from that information:"
   ]
  },
  {
   "cell_type": "code",
   "execution_count": 403,
   "metadata": {},
   "outputs": [
    {
     "name": "stdout",
     "output_type": "stream",
     "text": [
      "150\n",
      "0\n",
      "0\n",
      "0\n",
      "0\n",
      "0\n",
      "0\n",
      "0\n",
      "0\n",
      "0\n",
      "0\n",
      "0\n",
      "0\n",
      "0\n",
      "0\n",
      "0\n",
      "0\n",
      "0\n",
      "0\n",
      "0\n",
      "0\n",
      "0\n",
      "0\n",
      "0\n",
      "0\n",
      "0\n",
      "0\n",
      "0\n",
      "0\n",
      "0\n",
      "0\n",
      "0\n",
      "0\n",
      "0\n",
      "0\n",
      "0\n",
      "0\n",
      "0\n",
      "0\n",
      "0\n",
      "0\n",
      "0\n",
      "0\n",
      "0\n",
      "0\n",
      "0\n",
      "0\n",
      "0\n",
      "0\n",
      "0\n",
      "0\n",
      "1\n",
      "1\n",
      "1\n",
      "1\n",
      "1\n",
      "1\n",
      "1\n",
      "1\n",
      "1\n",
      "1\n",
      "1\n",
      "1\n",
      "1\n",
      "1\n",
      "1\n",
      "1\n",
      "1\n",
      "1\n",
      "1\n",
      "1\n",
      "1\n",
      "1\n",
      "1\n",
      "1\n",
      "1\n",
      "1\n",
      "1\n",
      "1\n",
      "1\n",
      "1\n",
      "1\n",
      "1\n",
      "1\n",
      "1\n",
      "1\n",
      "1\n",
      "1\n",
      "1\n",
      "1\n",
      "1\n",
      "1\n",
      "1\n",
      "1\n",
      "1\n",
      "1\n",
      "1\n",
      "1\n",
      "1\n",
      "1\n",
      "1\n",
      "2\n",
      "2\n",
      "2\n",
      "2\n",
      "2\n",
      "2\n",
      "2\n",
      "2\n",
      "2\n",
      "2\n",
      "2\n",
      "2\n",
      "2\n",
      "2\n",
      "2\n",
      "2\n",
      "2\n",
      "2\n",
      "2\n",
      "2\n",
      "2\n",
      "2\n",
      "2\n",
      "2\n",
      "2\n",
      "2\n",
      "2\n",
      "2\n",
      "2\n",
      "2\n",
      "2\n",
      "2\n",
      "2\n",
      "2\n",
      "2\n",
      "2\n",
      "2\n",
      "2\n",
      "2\n",
      "2\n",
      "2\n",
      "2\n",
      "2\n",
      "2\n",
      "2\n",
      "2\n",
      "2\n",
      "2\n",
      "2\n",
      "2\n",
      "0      0\n",
      "1      0\n",
      "2      0\n",
      "3      0\n",
      "4      0\n",
      "      ..\n",
      "145    2\n",
      "146    2\n",
      "147    2\n",
      "148    2\n",
      "149    2\n",
      "Name: species, Length: 150, dtype: int32\n"
     ]
    }
   ],
   "source": [
    "import pandas as pd\n",
    "iris_df = pd.DataFrame(iris['data'], columns=iris['feature_names'])\n",
    "iris_df['species'] = iris['target']\n",
    "iris_target = iris_df['species']\n",
    "\n",
    "print(len(iris_target))\n",
    "\n",
    "for i in iris_target:\n",
    "    print(i)\n",
    "\n",
    "# for i in range(iris_target):\n",
    "#     print(i)\n",
    "\n",
    "print(iris_target) \n",
    "# iris_df"
   ]
  },
  {
   "cell_type": "markdown",
   "metadata": {},
   "source": [
    "### **Task for advanced students:**\n",
    "Construct the data frame such that the \"species\" column has the actual species names (setosa etc)."
   ]
  },
  {
   "cell_type": "markdown",
   "metadata": {},
   "source": [
    "### PCA on iris\n",
    "\n",
    "We can essentially use the same approach when out data is in a data frame, we just have to get it out:"
   ]
  },
  {
   "cell_type": "code",
   "execution_count": 404,
   "metadata": {},
   "outputs": [
    {
     "data": {
      "text/plain": [
       "array([[5.1, 3.5, 1.4, 0.2],\n",
       "       [4.9, 3. , 1.4, 0.2],\n",
       "       [4.7, 3.2, 1.3, 0.2],\n",
       "       [4.6, 3.1, 1.5, 0.2],\n",
       "       [5. , 3.6, 1.4, 0.2],\n",
       "       [5.4, 3.9, 1.7, 0.4],\n",
       "       [4.6, 3.4, 1.4, 0.3],\n",
       "       [5. , 3.4, 1.5, 0.2],\n",
       "       [4.4, 2.9, 1.4, 0.2],\n",
       "       [4.9, 3.1, 1.5, 0.1],\n",
       "       [5.4, 3.7, 1.5, 0.2],\n",
       "       [4.8, 3.4, 1.6, 0.2],\n",
       "       [4.8, 3. , 1.4, 0.1],\n",
       "       [4.3, 3. , 1.1, 0.1],\n",
       "       [5.8, 4. , 1.2, 0.2],\n",
       "       [5.7, 4.4, 1.5, 0.4],\n",
       "       [5.4, 3.9, 1.3, 0.4],\n",
       "       [5.1, 3.5, 1.4, 0.3],\n",
       "       [5.7, 3.8, 1.7, 0.3],\n",
       "       [5.1, 3.8, 1.5, 0.3],\n",
       "       [5.4, 3.4, 1.7, 0.2],\n",
       "       [5.1, 3.7, 1.5, 0.4],\n",
       "       [4.6, 3.6, 1. , 0.2],\n",
       "       [5.1, 3.3, 1.7, 0.5],\n",
       "       [4.8, 3.4, 1.9, 0.2],\n",
       "       [5. , 3. , 1.6, 0.2],\n",
       "       [5. , 3.4, 1.6, 0.4],\n",
       "       [5.2, 3.5, 1.5, 0.2],\n",
       "       [5.2, 3.4, 1.4, 0.2],\n",
       "       [4.7, 3.2, 1.6, 0.2],\n",
       "       [4.8, 3.1, 1.6, 0.2],\n",
       "       [5.4, 3.4, 1.5, 0.4],\n",
       "       [5.2, 4.1, 1.5, 0.1],\n",
       "       [5.5, 4.2, 1.4, 0.2],\n",
       "       [4.9, 3.1, 1.5, 0.2],\n",
       "       [5. , 3.2, 1.2, 0.2],\n",
       "       [5.5, 3.5, 1.3, 0.2],\n",
       "       [4.9, 3.6, 1.4, 0.1],\n",
       "       [4.4, 3. , 1.3, 0.2],\n",
       "       [5.1, 3.4, 1.5, 0.2],\n",
       "       [5. , 3.5, 1.3, 0.3],\n",
       "       [4.5, 2.3, 1.3, 0.3],\n",
       "       [4.4, 3.2, 1.3, 0.2],\n",
       "       [5. , 3.5, 1.6, 0.6],\n",
       "       [5.1, 3.8, 1.9, 0.4],\n",
       "       [4.8, 3. , 1.4, 0.3],\n",
       "       [5.1, 3.8, 1.6, 0.2],\n",
       "       [4.6, 3.2, 1.4, 0.2],\n",
       "       [5.3, 3.7, 1.5, 0.2],\n",
       "       [5. , 3.3, 1.4, 0.2],\n",
       "       [7. , 3.2, 4.7, 1.4],\n",
       "       [6.4, 3.2, 4.5, 1.5],\n",
       "       [6.9, 3.1, 4.9, 1.5],\n",
       "       [5.5, 2.3, 4. , 1.3],\n",
       "       [6.5, 2.8, 4.6, 1.5],\n",
       "       [5.7, 2.8, 4.5, 1.3],\n",
       "       [6.3, 3.3, 4.7, 1.6],\n",
       "       [4.9, 2.4, 3.3, 1. ],\n",
       "       [6.6, 2.9, 4.6, 1.3],\n",
       "       [5.2, 2.7, 3.9, 1.4],\n",
       "       [5. , 2. , 3.5, 1. ],\n",
       "       [5.9, 3. , 4.2, 1.5],\n",
       "       [6. , 2.2, 4. , 1. ],\n",
       "       [6.1, 2.9, 4.7, 1.4],\n",
       "       [5.6, 2.9, 3.6, 1.3],\n",
       "       [6.7, 3.1, 4.4, 1.4],\n",
       "       [5.6, 3. , 4.5, 1.5],\n",
       "       [5.8, 2.7, 4.1, 1. ],\n",
       "       [6.2, 2.2, 4.5, 1.5],\n",
       "       [5.6, 2.5, 3.9, 1.1],\n",
       "       [5.9, 3.2, 4.8, 1.8],\n",
       "       [6.1, 2.8, 4. , 1.3],\n",
       "       [6.3, 2.5, 4.9, 1.5],\n",
       "       [6.1, 2.8, 4.7, 1.2],\n",
       "       [6.4, 2.9, 4.3, 1.3],\n",
       "       [6.6, 3. , 4.4, 1.4],\n",
       "       [6.8, 2.8, 4.8, 1.4],\n",
       "       [6.7, 3. , 5. , 1.7],\n",
       "       [6. , 2.9, 4.5, 1.5],\n",
       "       [5.7, 2.6, 3.5, 1. ],\n",
       "       [5.5, 2.4, 3.8, 1.1],\n",
       "       [5.5, 2.4, 3.7, 1. ],\n",
       "       [5.8, 2.7, 3.9, 1.2],\n",
       "       [6. , 2.7, 5.1, 1.6],\n",
       "       [5.4, 3. , 4.5, 1.5],\n",
       "       [6. , 3.4, 4.5, 1.6],\n",
       "       [6.7, 3.1, 4.7, 1.5],\n",
       "       [6.3, 2.3, 4.4, 1.3],\n",
       "       [5.6, 3. , 4.1, 1.3],\n",
       "       [5.5, 2.5, 4. , 1.3],\n",
       "       [5.5, 2.6, 4.4, 1.2],\n",
       "       [6.1, 3. , 4.6, 1.4],\n",
       "       [5.8, 2.6, 4. , 1.2],\n",
       "       [5. , 2.3, 3.3, 1. ],\n",
       "       [5.6, 2.7, 4.2, 1.3],\n",
       "       [5.7, 3. , 4.2, 1.2],\n",
       "       [5.7, 2.9, 4.2, 1.3],\n",
       "       [6.2, 2.9, 4.3, 1.3],\n",
       "       [5.1, 2.5, 3. , 1.1],\n",
       "       [5.7, 2.8, 4.1, 1.3],\n",
       "       [6.3, 3.3, 6. , 2.5],\n",
       "       [5.8, 2.7, 5.1, 1.9],\n",
       "       [7.1, 3. , 5.9, 2.1],\n",
       "       [6.3, 2.9, 5.6, 1.8],\n",
       "       [6.5, 3. , 5.8, 2.2],\n",
       "       [7.6, 3. , 6.6, 2.1],\n",
       "       [4.9, 2.5, 4.5, 1.7],\n",
       "       [7.3, 2.9, 6.3, 1.8],\n",
       "       [6.7, 2.5, 5.8, 1.8],\n",
       "       [7.2, 3.6, 6.1, 2.5],\n",
       "       [6.5, 3.2, 5.1, 2. ],\n",
       "       [6.4, 2.7, 5.3, 1.9],\n",
       "       [6.8, 3. , 5.5, 2.1],\n",
       "       [5.7, 2.5, 5. , 2. ],\n",
       "       [5.8, 2.8, 5.1, 2.4],\n",
       "       [6.4, 3.2, 5.3, 2.3],\n",
       "       [6.5, 3. , 5.5, 1.8],\n",
       "       [7.7, 3.8, 6.7, 2.2],\n",
       "       [7.7, 2.6, 6.9, 2.3],\n",
       "       [6. , 2.2, 5. , 1.5],\n",
       "       [6.9, 3.2, 5.7, 2.3],\n",
       "       [5.6, 2.8, 4.9, 2. ],\n",
       "       [7.7, 2.8, 6.7, 2. ],\n",
       "       [6.3, 2.7, 4.9, 1.8],\n",
       "       [6.7, 3.3, 5.7, 2.1],\n",
       "       [7.2, 3.2, 6. , 1.8],\n",
       "       [6.2, 2.8, 4.8, 1.8],\n",
       "       [6.1, 3. , 4.9, 1.8],\n",
       "       [6.4, 2.8, 5.6, 2.1],\n",
       "       [7.2, 3. , 5.8, 1.6],\n",
       "       [7.4, 2.8, 6.1, 1.9],\n",
       "       [7.9, 3.8, 6.4, 2. ],\n",
       "       [6.4, 2.8, 5.6, 2.2],\n",
       "       [6.3, 2.8, 5.1, 1.5],\n",
       "       [6.1, 2.6, 5.6, 1.4],\n",
       "       [7.7, 3. , 6.1, 2.3],\n",
       "       [6.3, 3.4, 5.6, 2.4],\n",
       "       [6.4, 3.1, 5.5, 1.8],\n",
       "       [6. , 3. , 4.8, 1.8],\n",
       "       [6.9, 3.1, 5.4, 2.1],\n",
       "       [6.7, 3.1, 5.6, 2.4],\n",
       "       [6.9, 3.1, 5.1, 2.3],\n",
       "       [5.8, 2.7, 5.1, 1.9],\n",
       "       [6.8, 3.2, 5.9, 2.3],\n",
       "       [6.7, 3.3, 5.7, 2.5],\n",
       "       [6.7, 3. , 5.2, 2.3],\n",
       "       [6.3, 2.5, 5. , 1.9],\n",
       "       [6.5, 3. , 5.2, 2. ],\n",
       "       [6.2, 3.4, 5.4, 2.3],\n",
       "       [5.9, 3. , 5.1, 1.8]])"
      ]
     },
     "execution_count": 404,
     "metadata": {},
     "output_type": "execute_result"
    }
   ],
   "source": [
    "iris_values = iris_df[iris['feature_names']].values\n",
    "iris_values"
   ]
  },
  {
   "cell_type": "code",
   "execution_count": 405,
   "metadata": {},
   "outputs": [
    {
     "name": "stdout",
     "output_type": "stream",
     "text": [
      "[50, 50, 50, 50, 50, 50, 50, 50, 50, 50]\n"
     ]
    },
    {
     "data": {
      "image/png": "[encoded data removed]",
      "text/plain": [
       "<Figure size 432x288 with 1 Axes>"
      ]
     },
     "metadata": {
      "needs_background": "light"
     },
     "output_type": "display_data"
    }
   ],
   "source": [
    "pca = PCA()\n",
    "pca.fit(iris_values)\n",
    "iris_pca = pca.transform(iris_values)\n",
    "\n",
    "#plotting\n",
    "colors = np.random.rand(150)\n",
    "ax = plt.gca()\n",
    "ax.scatter(iris_pca[:50, 0], iris_pca[:50, 1], c=['#324AB2']*50)\n",
    "t = ax.set_xlabel('PC1')\n",
    "t = ax.set_ylabel('PC2')\n",
    "\n",
    "ax.scatter(iris_pca[50:100, 0], iris_pca[50:100, 1], c=['#0366fc']*50)\n",
    "t = ax.set_xlabel('PC1')\n",
    "t = ax.set_ylabel('PC2')\n",
    "\n",
    "ax.scatter(iris_pca[100:, 0], iris_pca[100:, 1], c=['#330066']*50)\n",
    "t = ax.set_xlabel('PC1')\n",
    "t = ax.set_ylabel('PC2')\n",
    "\n",
    "list = [50] * 10\n",
    "print(list)\n"
   ]
  },
  {
   "cell_type": "markdown",
   "metadata": {},
   "source": [
    "**Task (for advanced students):** color the dots according to species."
   ]
  },
  {
   "cell_type": "markdown",
   "metadata": {},
   "source": [
    "### covariance matrix\n",
    "Let's plot the covariance matrix as numbers:"
   ]
  },
  {
   "cell_type": "code",
   "execution_count": 406,
   "metadata": {},
   "outputs": [
    {
     "data": {
      "text/plain": [
       "array([[ 0.68569351, -0.042434  ,  1.27431544,  0.51627069],\n",
       "       [-0.042434  ,  0.18997942, -0.32965638, -0.12163937],\n",
       "       [ 1.27431544, -0.32965638,  3.11627785,  1.2956094 ],\n",
       "       [ 0.51627069, -0.12163937,  1.2956094 ,  0.58100626]])"
      ]
     },
     "execution_count": 406,
     "metadata": {},
     "output_type": "execute_result"
    }
   ],
   "source": [
    "pca.get_covariance()"
   ]
  },
  {
   "cell_type": "markdown",
   "metadata": {},
   "source": [
    "Now let's plot the covariance matrix as an image:"
   ]
  },
  {
   "cell_type": "code",
   "execution_count": 407,
   "metadata": {},
   "outputs": [
    {
     "data": {
      "image/png": "[encoded data removed]",
      "text/plain": [
       "<Figure size 432x288 with 2 Axes>"
      ]
     },
     "metadata": {
      "needs_background": "light"
     },
     "output_type": "display_data"
    }
   ],
   "source": [
    "ax = plt.gca()\n",
    "covmat = pca.get_covariance()\n",
    "iris_covmat = covmat\n",
    "img = ax.imshow(covmat, cmap='seismic', vmin=-3.2, vmax=3.2)\n",
    "plt.colorbar(img, label='covariance')\n",
    "ax.set_yticks([0,1,2,3])\n",
    "t = ax.set_yticklabels(iris['feature_names'])\n",
    "ax.set_xticks([0,1,2,3])\n",
    "t = ax.set_xticklabels(iris['feature_names'], rotation=90)\n",
    "for x in range(4):\n",
    "    for y in range(4):\n",
    "        ax.text(x,y,\"{:.2f}\".format(covmat[y,x]), {'ha':'center', 'color':\"blue\"})"
   ]
  },
  {
   "cell_type": "markdown",
   "metadata": {},
   "source": [
    "In the practicals to follow, we will often visualise matrices as \"images\", with a colorbar that reveals the numerical value. Usually we will not plot the actual values, resulting in such a plot:"
   ]
  },
  {
   "cell_type": "code",
   "execution_count": 408,
   "metadata": {},
   "outputs": [
    {
     "data": {
      "image/png": "[encoded data removed]",
      "text/plain": [
       "<Figure size 432x288 with 2 Axes>"
      ]
     },
     "metadata": {
      "needs_background": "light"
     },
     "output_type": "display_data"
    }
   ],
   "source": [
    "ax = plt.gca()\n",
    "img = ax.imshow(covmat, cmap='seismic', vmin=-3.2, vmax=3.2)\n",
    "plt.colorbar(img, label='covariance')\n",
    "ax.set_yticks([0,1,2,3])\n",
    "ax.set_yticks([0,1,2,3])\n",
    "t = ax.set_yticklabels(iris['feature_names'])\n",
    "ax.set_xticks([0,1,2,3])\n",
    "t = ax.set_xticklabels(iris['feature_names'], rotation=90)\n"
   ]
  },
  {
   "cell_type": "markdown",
   "metadata": {},
   "source": [
    "### Scree plot\n",
    "The scree plot displays the amount of explained variance."
   ]
  },
  {
   "cell_type": "code",
   "execution_count": 409,
   "metadata": {},
   "outputs": [
    {
     "data": {
      "text/plain": [
       "[Text(0, 0, 'PC0'), Text(1, 0, 'PC1'), Text(2, 0, 'PC2'), Text(3, 0, 'PC3')]"
      ]
     },
     "execution_count": 409,
     "metadata": {},
     "output_type": "execute_result"
    },
    {
     "data": {
      "image/png": "[encoded data removed]",
      "text/plain": [
       "<Figure size 432x288 with 1 Axes>"
      ]
     },
     "metadata": {
      "needs_background": "light"
     },
     "output_type": "display_data"
    }
   ],
   "source": [
    "ax = plt.gca()\n",
    "expl_var = pca.explained_variance_ratio_\n",
    "\n",
    "ax.plot(expl_var, marker='x')\n",
    "ax.set_ylim(0,1.)\n",
    "ax.set_xticks([0,1,2,3])\n",
    "ax.set_xticklabels([\"PC{}\".format(i) for i in range(4)])"
   ]
  },
  {
   "cell_type": "markdown",
   "metadata": {},
   "source": [
    "### Components\n",
    "The principal components are a weighted sum of the data vectors. Let's retrieve them from the PCA:"
   ]
  },
  {
   "cell_type": "code",
   "execution_count": 410,
   "metadata": {},
   "outputs": [
    {
     "data": {
      "image/png": "[encoded data removed]",
      "text/plain": [
       "<Figure size 432x288 with 2 Axes>"
      ]
     },
     "metadata": {
      "needs_background": "light"
     },
     "output_type": "display_data"
    }
   ],
   "source": [
    "comps = pca.components_\n",
    "ax = plt.gca()\n",
    "img = ax.imshow(comps, cmap='seismic', vmin=-1, vmax=1)\n",
    "plt.colorbar(img, label=\"weight\")\n",
    "ax.set_yticks([0,1,2,3])\n",
    "t = ax.set_yticklabels([\"PC{}\".format(i+1) for i in range(4)])\n",
    "ax.set_xticks([0,1,2,3])\n",
    "t = ax.set_xticklabels(iris['feature_names'], rotation=90)"
   ]
  },
  {
   "cell_type": "markdown",
   "metadata": {},
   "source": [
    "**Task**: Which features have a positive weight on PC1?"
   ]
  },
  {
   "cell_type": "markdown",
   "metadata": {},
   "source": [
    "Asnwer: The following features have positve weight on PC1 septal length, petal length, and petal width"
   ]
  },
  {
   "cell_type": "markdown",
   "metadata": {},
   "source": [
    "### Normalisation\n",
    "Finally, let's normalise the data and do the PCA again:"
   ]
  },
  {
   "cell_type": "code",
   "execution_count": 411,
   "metadata": {},
   "outputs": [
    {
     "data": {
      "image/png": "[encoded data removed]",
      "text/plain": [
       "<Figure size 432x288 with 1 Axes>"
      ]
     },
     "metadata": {
      "needs_background": "light"
     },
     "output_type": "display_data"
    }
   ],
   "source": [
    "ss = pp.StandardScaler()\n",
    "ss.fit(iris_values)\n",
    "pca_norm = PCA()\n",
    "pca_norm.fit(ss.transform(iris_values)) # note the composition of the commands\n",
    "iris_pca_norm = pca_norm.transform(ss.transform(iris_values))\n",
    "\n",
    "#plotting\n",
    "ax = plt.gca()\n",
    "ax.scatter(iris_pca_norm[:,0], iris_pca_norm[:,1])\n",
    "t = ax.set_xlabel('PC1')\n",
    "t = ax.set_ylabel('PC2')"
   ]
  },
  {
   "cell_type": "markdown",
   "metadata": {},
   "source": [
    "The difference in result is subtle in the plot of the first two PCs, but it is more drastic in the covariance matrix.\n",
    "\n",
    "### Task (all students):\n",
    "1. plot the covariance matrix for the normalised data and compare it to that of the raw data.\n",
    "2. plot the scree-plot for the normalised data and compare it to that of the raw data. \n",
    "3. Observe the difference! Compare to the lecture, where we discussed the \"variance bug\" of PCA.\n",
    "\n"
   ]
  },
  {
   "cell_type": "code",
   "execution_count": 412,
   "metadata": {},
   "outputs": [
    {
     "data": {
      "image/png": "[encoded data removed]",
      "text/plain": [
       "<Figure size 432x288 with 2 Axes>"
      ]
     },
     "metadata": {
      "needs_background": "light"
     },
     "output_type": "display_data"
    }
   ],
   "source": [
    "ax = plt.gca()\n",
    "img = ax.imshow(iris_covmat, cmap='seismic', vmin=-3.2, vmax=3.2)\n",
    "plt.title('Iris CovMat Raw Data')\n",
    "plt.colorbar(img, label='covariance')\n",
    "ax.set_yticks([0, 1, 2, 3])\n",
    "t = ax.set_yticklabels(iris['feature_names'])\n",
    "ax.set_xticks([0, 1, 2, 3])\n",
    "t = ax.set_xticklabels(iris['feature_names'], rotation=90)\n",
    "for x in range(4):\n",
    "    for y in range(4):\n",
    "        ax.text(x, y, \"{:.2f}\".format(iris_covmat[y, x]), {\n",
    "                'ha': 'center', 'color': \"blue\"})\n",
    "\n"
   ]
  },
  {
   "cell_type": "code",
   "execution_count": 413,
   "metadata": {},
   "outputs": [
    {
     "data": {
      "image/png": "[encoded data removed]",
      "text/plain": [
       "<Figure size 432x288 with 2 Axes>"
      ]
     },
     "metadata": {
      "needs_background": "light"
     },
     "output_type": "display_data"
    }
   ],
   "source": [
    "pca = PCA()\n",
    "pca.fit(iris_pca_norm)\n",
    "iris_pca_norm_pca = pca.transform(iris_pca_norm)\n",
    "expl_var_norm = pca.explained_variance_ratio_\n",
    "\n",
    "\n",
    "covmat = pca.get_covariance()\n",
    "iris_covmat_norm = covmat\n",
    "\n",
    "ax = plt.gca()\n",
    "img = ax.imshow(iris_covmat_norm, cmap='seismic', vmin=-3.2, vmax=3.2)\n",
    "plt.title('Iris CovMat Norm Data')\n",
    "plt.colorbar(img, label='covariance')\n",
    "ax.set_yticks([0, 1, 2, 3])\n",
    "t = ax.set_yticklabels(iris['feature_names'])\n",
    "ax.set_xticks([0, 1, 2, 3])\n",
    "t = ax.set_xticklabels(iris['feature_names'], rotation=90)\n",
    "for x in range(4):\n",
    "    for y in range(4):\n",
    "        ax.text(x, y, \"{:.2f}\".format(iris_covmat_norm[y, x]), {\n",
    "                'ha': 'center', 'color': \"blue\"})\n"
   ]
  },
  {
   "cell_type": "code",
   "execution_count": 414,
   "metadata": {},
   "outputs": [
    {
     "name": "stderr",
     "output_type": "stream",
     "text": [
      "C:\\Users\\Rifat\\AppData\\Local\\Temp/ipykernel_21384/1345209448.py:9: MatplotlibDeprecationWarning: Starting from Matplotlib 3.6, colorbar() will steal space from the mappable's axes, rather than from the current axes, to place the colorbar.  To silence this warning, explicitly pass the 'ax' argument to colorbar().\n",
      "  plt.colorbar(img, label='covariance')\n"
     ]
    },
    {
     "data": {
      "image/png": "[encoded data removed]",
      "text/plain": [
       "<Figure size 432x288 with 3 Axes>"
      ]
     },
     "metadata": {
      "needs_background": "light"
     },
     "output_type": "display_data"
    }
   ],
   "source": [
    "import matplotlib.pyplot as plt\n",
    "fig = plt.figure()\n",
    "\n",
    "ax1 = fig.add_subplot(121)\n",
    "ax2 = fig.add_subplot(122)\n",
    "\n",
    "\n",
    "img = ax1.imshow(iris_covmat, cmap='seismic', vmin=-3.2, vmax=3.2)\n",
    "plt.colorbar(img, label='covariance')\n",
    "plt.title('IRIS RAW VS NORM CovMat')\n",
    "ax1.title.set_text('IRIS RAW DATA CovMat')\n",
    "ax1.set_yticks([0, 1, 2, 3])\n",
    "t = ax1.set_yticklabels(iris['feature_names'])\n",
    "ax1.set_xticks([0, 1, 2, 3])\n",
    "t = ax1.set_xticklabels(iris['feature_names'], rotation=90)\n",
    "ax1.set_aspect(1)\n",
    "for x in range(4):\n",
    "    for y in range(4):\n",
    "        ax1.text(x, y, \"{:.2f}\".format(iris_covmat[y, x]), {\n",
    "                'ha': 'center', 'color': \"blue\"})\n",
    "\n",
    "\n",
    "img = ax2.imshow(iris_covmat_norm, cmap='seismic', vmin=-3.2, vmax=3.2)\n",
    "# plt.colorbar(img, label='covariance')\n",
    "ax2.title.set_text('IRIS Norm DATA CovMat')\n",
    "ax2.set_yticks([0, 1, 2, 3])\n",
    "# t = ax2.set_yticklabels(iris['feature_names'])\n",
    "ax2.set_xticks([0, 1, 2, 3])\n",
    "# t = ax2.set_xticklabels(iris['feature_names'], rotation=90)\n",
    "ax2.set_aspect(1)\n",
    "for x in range(4):\n",
    "    for y in range(4):\n",
    "        ax2.text(x, y, \"{:.2f}\".format(iris_covmat_norm[y, x]), {\n",
    "                'ha': 'center', 'color': \"blue\"})\n",
    "\n",
    "plt.show()\n",
    "\n",
    "\n"
   ]
  },
  {
   "cell_type": "markdown",
   "metadata": {},
   "source": [
    "**Scree Plot Difference**"
   ]
  },
  {
   "cell_type": "code",
   "execution_count": 415,
   "metadata": {},
   "outputs": [
    {
     "data": {
      "text/plain": [
       "[Text(0, 0, 'PC0'), Text(1, 0, 'PC1'), Text(2, 0, 'PC2'), Text(3, 0, 'PC3')]"
      ]
     },
     "execution_count": 415,
     "metadata": {},
     "output_type": "execute_result"
    },
    {
     "data": {
      "image/png": "[encoded data removed]",
      "text/plain": [
       "<Figure size 432x288 with 2 Axes>"
      ]
     },
     "metadata": {
      "needs_background": "light"
     },
     "output_type": "display_data"
    }
   ],
   "source": [
    "fig = plt.figure()\n",
    "\n",
    "ax1 = fig.add_subplot(121)\n",
    "ax2 = fig.add_subplot(122)\n",
    "\n",
    "ax1.plot(expl_var, marker='x')\n",
    "ax1.set_ylim(0, 1.)\n",
    "ax1.set_xticks([0, 1, 2, 3])\n",
    "ax1.set_xticklabels([\"PC{}\".format(i) for i in range(4)])\n",
    "\n",
    "ax2.plot(expl_var_norm, marker='x')\n",
    "ax2.set_ylim(0, 1.)\n",
    "ax2.set_xticks([0, 1, 2, 3])\n",
    "ax2.set_xticklabels([\"PC{}\".format(i) for i in range(4)])\n",
    "\n"
   ]
  },
  {
   "cell_type": "markdown",
   "metadata": {},
   "source": [
    "# Conclusion\n",
    "* PCA is a powerful tool to get a first glance at data. \n",
    "* Normalisation can make a huge difference.\n",
    "* Dimensionality reduction helps with plotting.\n",
    "* Scree plot allows to identify how many components are required.\n",
    "* Component loadings allow interpretation of feature relevance.\n",
    "* Identifying clusters can help uncover patterns in instances and features. "
   ]
  }
 ],
 "metadata": {
  "kernelspec": {
   "display_name": "Python 3",
   "language": "python",
   "name": "python3"
  },
  "language_info": {
   "codemirror_mode": {
    "name": "ipython",
    "version": 3
   },
   "file_extension": ".py",
   "mimetype": "text/x-python",
   "name": "python",
   "nbconvert_exporter": "python",
   "pygments_lexer": "ipython3",
   "version": "3.8.12"
  }
 },
 "nbformat": 4,
 "nbformat_minor": 2
}
